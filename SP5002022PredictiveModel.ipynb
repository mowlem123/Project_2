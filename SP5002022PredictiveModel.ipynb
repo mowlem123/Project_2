{
 "cells": [
  {
   "cell_type": "markdown",
   "metadata": {
    "id": "_qTK4Ajv3qRz"
   },
   "source": [
    "In this Project, we will use a keras Long Short-Term Memory (LSTM) model to predict the stock price of S&P500 ETF\n"
   ]
  },
  {
   "cell_type": "markdown",
   "metadata": {
    "id": "rs-XEsB86weU"
   },
   "source": [
    "Here are some imports we need to make: numpy for scientific computation, matplotlib for graphing, and pandas for manipulating data."
   ]
  },
  {
   "cell_type": "code",
   "execution_count": 1,
   "metadata": {
    "id": "2SoQJk5BYOas"
   },
   "outputs": [],
   "source": [
    "import numpy as np\n",
    "import matplotlib.pyplot as plt\n",
    "import pandas as pd \n",
    "from pathlib import Path\n",
    "\n",
    "from numpy.random import seed\n",
    "\n",
    "seed(1)\n",
    "from tensorflow import random\n",
    "\n",
    "random.set_seed(2)"
   ]
  },
  {
   "cell_type": "code",
   "execution_count": 2,
   "metadata": {},
   "outputs": [],
   "source": [
    "#####Functions\n",
    "\n",
    "def window_data(df, window, feature_col_number, target_col_number):\n",
    "    \"\"\"\n",
    "    This function accepts the column number for the features (X) and the target (y).\n",
    "    It chunks the data up with a rolling window of Xt - window to predict Xt.\n",
    "    It returns two numpy arrays of X and y.\n",
    "    \"\"\"\n",
    "    X = []\n",
    "    y = []\n",
    "    for i in range(len(df) - window):\n",
    "        features = df.iloc[i : (i + window), feature_col_number]\n",
    "        target = df.iloc[(i + window), target_col_number]\n",
    "        X.append(features)\n",
    "        y.append(target)\n",
    "    return np.array(X), np.array(y).reshape(-1, 1)"
   ]
  },
  {
   "cell_type": "markdown",
   "metadata": {
    "id": "BD3hdApP7gNi"
   },
   "source": [
    "Load training data set with the \"Open\" column to use in our modeling."
   ]
  },
  {
   "cell_type": "code",
   "execution_count": 3,
   "metadata": {
    "id": "VU6ve06iDV5Q"
   },
   "outputs": [
    {
     "name": "stdout",
     "output_type": "stream",
     "text": [
      "X sample values:\n",
      "[[148.53 149.12 149.72 150.77 150.92]\n",
      " [149.12 149.72 150.77 150.92 150.49]\n",
      " [149.72 150.77 150.92 150.49 150.59]\n",
      " [150.77 150.92 150.49 150.59 150.83]\n",
      " [150.92 150.49 150.59 150.83 149.68]] \n",
      "\n",
      "y sample values:\n",
      "[[150.49]\n",
      " [150.59]\n",
      " [150.83]\n",
      " [149.68]\n",
      " [150.83]]\n"
     ]
    }
   ],
   "source": [
    "spy07_df = pd.read_csv(\n",
    "    Path(\"spy_hist_07.csv\"),\n",
    "    index_col=\"date\",\n",
    "    parse_dates=True,\n",
    "    infer_datetime_format=True\n",
    ")\n",
    "\n",
    "\n",
    "####Variables####\n",
    "window_size = 5\n",
    "feature_column = 4\n",
    "target_column = 4\n",
    "\n",
    "#Make the rolling window data\n",
    "X, y = window_data(spy07_df, window_size, feature_column, target_column)\n",
    "print (f\"X sample values:\\n{X[:5]} \\n\")\n",
    "print (f\"y sample values:\\n{y[:5]}\")\n"
   ]
  },
  {
   "cell_type": "code",
   "execution_count": 4,
   "metadata": {},
   "outputs": [],
   "source": [
    "####To avoid the dataset being randomized, we will manually split the data using array slicing.###\n",
    "split = int(0.7 * len(X))\n",
    "X_train = X[: split]\n",
    "X_test = X[split:]\n",
    "y_train = y[: split]\n",
    "y_test = y[split:]"
   ]
  },
  {
   "cell_type": "markdown",
   "metadata": {
    "id": "ii6nZaDI7-20"
   },
   "source": [
    "Import MinMaxScaler from scikit-learn to scale our dataset into numbers between 0 and 1 "
   ]
  },
  {
   "cell_type": "code",
   "execution_count": 5,
   "metadata": {
    "id": "Ub32hsA4MIXz"
   },
   "outputs": [],
   "source": [
    "# Use the MinMaxScaler to scale data between 0 and 1.\n",
    "from sklearn.preprocessing import MinMaxScaler\n",
    "\n",
    "# Create a MinMaxScaler object\n",
    "scaler = MinMaxScaler()\n",
    "\n",
    "# Fit the MinMaxScaler object with the training feature data X_train\n",
    "scaler.fit(X_train)\n",
    "\n",
    "# Scale the features training and testing sets\n",
    "X_train = scaler.transform(X_train)\n",
    "X_test = scaler.transform(X_test)\n",
    "\n",
    "# Fit the MinMaxScaler object with the training target data y_train\n",
    "scaler.fit(y_train)\n",
    "\n",
    "# Scale the target training and testing sets\n",
    "y_train = scaler.transform(y_train)\n",
    "y_test = scaler.transform(y_test)"
   ]
  },
  {
   "cell_type": "code",
   "execution_count": 6,
   "metadata": {
    "id": "qo7K06T2Mi_e"
   },
   "outputs": [],
   "source": [
    "# Reshape the features for the model\n",
    "X_train = X_train.reshape((X_train.shape[0], X_train.shape[1], 1))\n",
    "X_test = X_test.reshape((X_test.shape[0], X_test.shape[1], 1))"
   ]
  },
  {
   "cell_type": "markdown",
   "metadata": {
    "id": "anIlTzKO-r74"
   },
   "source": [
    "Make the necessary imports from keras"
   ]
  },
  {
   "cell_type": "code",
   "execution_count": 7,
   "metadata": {
    "id": "TP9GVtb9Q-C9"
   },
   "outputs": [],
   "source": [
    "from keras.models import Sequential\n",
    "from keras.layers import LSTM\n",
    "from keras.layers import Dropout\n",
    "from keras.layers import Dense "
   ]
  },
  {
   "cell_type": "markdown",
   "metadata": {
    "id": "hJrFWnOd-x2t"
   },
   "source": [
    "Add LSTM layer along with dropout layers to prevent overfitting. After that, we add a Dense layer that specifies a one unit output. Next, we compile the model using the adam optimizer and set the loss as the mean_squarred_error"
   ]
  },
  {
   "cell_type": "code",
   "execution_count": 8,
   "metadata": {
    "colab": {
     "base_uri": "https://localhost:8080/",
     "height": 1000
    },
    "id": "CMKVOwBnRcOc",
    "outputId": "56b2022c-7ea4-4bf0-9f21-8b0a22d8c52a"
   },
   "outputs": [
    {
     "name": "stderr",
     "output_type": "stream",
     "text": [
      "2022-04-13 18:51:05.833610: I tensorflow/core/platform/cpu_feature_guard.cc:151] This TensorFlow binary is optimized with oneAPI Deep Neural Network Library (oneDNN) to use the following CPU instructions in performance-critical operations:  AVX2 FMA\n",
      "To enable them in other operations, rebuild TensorFlow with the appropriate compiler flags.\n"
     ]
    },
    {
     "name": "stdout",
     "output_type": "stream",
     "text": [
      "Epoch 1/20\n",
      "824/824 [==============================] - 6s 4ms/step - loss: 0.0347\n",
      "Epoch 2/20\n",
      "824/824 [==============================] - 3s 4ms/step - loss: 0.0138\n",
      "Epoch 3/20\n",
      "824/824 [==============================] - 3s 3ms/step - loss: 0.0089\n",
      "Epoch 4/20\n",
      "824/824 [==============================] - 3s 4ms/step - loss: 0.0073\n",
      "Epoch 5/20\n",
      "824/824 [==============================] - 3s 4ms/step - loss: 0.0057\n",
      "Epoch 6/20\n",
      "824/824 [==============================] - 3s 4ms/step - loss: 0.0051\n",
      "Epoch 7/20\n",
      "824/824 [==============================] - 3s 4ms/step - loss: 0.0046\n",
      "Epoch 8/20\n",
      "824/824 [==============================] - 3s 4ms/step - loss: 0.0044\n",
      "Epoch 9/20\n",
      "824/824 [==============================] - 3s 4ms/step - loss: 0.0047\n",
      "Epoch 10/20\n",
      "824/824 [==============================] - 3s 4ms/step - loss: 0.0042\n",
      "Epoch 11/20\n",
      "824/824 [==============================] - 3s 4ms/step - loss: 0.0043\n",
      "Epoch 12/20\n",
      "824/824 [==============================] - 3s 4ms/step - loss: 0.0043\n",
      "Epoch 13/20\n",
      "824/824 [==============================] - 3s 4ms/step - loss: 0.0044\n",
      "Epoch 14/20\n",
      "824/824 [==============================] - 3s 4ms/step - loss: 0.0037\n",
      "Epoch 15/20\n",
      "824/824 [==============================] - 3s 4ms/step - loss: 0.0040\n",
      "Epoch 16/20\n",
      "824/824 [==============================] - 3s 4ms/step - loss: 0.0038\n",
      "Epoch 17/20\n",
      "824/824 [==============================] - 3s 4ms/step - loss: 0.0039\n",
      "Epoch 18/20\n",
      "824/824 [==============================] - 3s 4ms/step - loss: 0.0039\n",
      "Epoch 19/20\n",
      "824/824 [==============================] - 3s 4ms/step - loss: 0.0035\n",
      "Epoch 20/20\n",
      "824/824 [==============================] - 3s 4ms/step - loss: 0.0037\n"
     ]
    },
    {
     "data": {
      "text/plain": [
       "<keras.callbacks.History at 0x7f7e45c0fb80>"
      ]
     },
     "execution_count": 8,
     "metadata": {},
     "output_type": "execute_result"
    }
   ],
   "source": [
    "# Define the LSTM RNN model.\n",
    "model = Sequential()\n",
    "\n",
    "number_units = 10\n",
    "dropout_fraction = 0.2\n",
    "\n",
    "# Layer 1\n",
    "model.add(LSTM(\n",
    "    units=number_units,\n",
    "    return_sequences=True,\n",
    "    input_shape=(X_train.shape[1], 1))\n",
    "    )\n",
    "model.add(Dropout(dropout_fraction))\n",
    "# Layer 2\n",
    "model.add(LSTM(units=number_units, return_sequences=True))\n",
    "model.add(Dropout(dropout_fraction))\n",
    "# Layer 3\n",
    "model.add(LSTM(units=number_units))\n",
    "model.add(Dropout(dropout_fraction))\n",
    "# Output layer\n",
    "model.add(Dense(1))\n",
    "\n",
    "model.compile(optimizer='adam',loss='mean_squared_error')\n",
    "\n",
    "model.fit(X_train,y_train,epochs=20,batch_size=1)"
   ]
  },
  {
   "cell_type": "code",
   "execution_count": 9,
   "metadata": {
    "id": "N7_w_7x-A44v"
   },
   "outputs": [],
   "source": [
    "###Evaluate the model to determine Mean Squared Error for the Test Set in 2007###"
   ]
  },
  {
   "cell_type": "code",
   "execution_count": 10,
   "metadata": {
    "id": "ns2TngWrUaz5"
   },
   "outputs": [
    {
     "name": "stdout",
     "output_type": "stream",
     "text": [
      "12/12 [==============================] - 1s 2ms/step - loss: 8.2863e-04\n"
     ]
    },
    {
     "data": {
      "text/plain": [
       "0.0008286306983791292"
      ]
     },
     "execution_count": 10,
     "metadata": {},
     "output_type": "execute_result"
    }
   ],
   "source": [
    "model.evaluate(X_test, y_test)"
   ]
  },
  {
   "cell_type": "code",
   "execution_count": 11,
   "metadata": {
    "id": "pBbdst_BV_PB"
   },
   "outputs": [],
   "source": [
    "predicted = model.predict(X_test)\n",
    "predicted_prices = scaler.inverse_transform(predicted)\n",
    "real_prices = scaler.inverse_transform(y_test.reshape(-1, 1))"
   ]
  },
  {
   "cell_type": "markdown",
   "metadata": {
    "id": "BAj_a3n0B3nz"
   },
   "source": [
    "Plot our predicted stock prices and the actual stock price"
   ]
  },
  {
   "cell_type": "code",
   "execution_count": 12,
   "metadata": {
    "colab": {
     "base_uri": "https://localhost:8080/",
     "height": 295
    },
    "id": "czWvnIANYSqI",
    "outputId": "253ea65c-9b91-4812-c75e-605d2199b783"
   },
   "outputs": [
    {
     "data": {
      "text/html": [
       "<div>\n",
       "<style scoped>\n",
       "    .dataframe tbody tr th:only-of-type {\n",
       "        vertical-align: middle;\n",
       "    }\n",
       "\n",
       "    .dataframe tbody tr th {\n",
       "        vertical-align: top;\n",
       "    }\n",
       "\n",
       "    .dataframe thead th {\n",
       "        text-align: right;\n",
       "    }\n",
       "</style>\n",
       "<table border=\"1\" class=\"dataframe\">\n",
       "  <thead>\n",
       "    <tr style=\"text-align: right;\">\n",
       "      <th></th>\n",
       "      <th>Real</th>\n",
       "      <th>Predicted</th>\n",
       "    </tr>\n",
       "    <tr>\n",
       "      <th>date</th>\n",
       "      <th></th>\n",
       "      <th></th>\n",
       "    </tr>\n",
       "  </thead>\n",
       "  <tbody>\n",
       "    <tr>\n",
       "      <th>2010-08-10</th>\n",
       "      <td>112.03</td>\n",
       "      <td>111.584206</td>\n",
       "    </tr>\n",
       "    <tr>\n",
       "      <th>2010-08-11</th>\n",
       "      <td>110.65</td>\n",
       "      <td>111.528282</td>\n",
       "    </tr>\n",
       "    <tr>\n",
       "      <th>2010-08-12</th>\n",
       "      <td>107.65</td>\n",
       "      <td>111.324738</td>\n",
       "    </tr>\n",
       "    <tr>\n",
       "      <th>2010-08-13</th>\n",
       "      <td>108.29</td>\n",
       "      <td>110.818024</td>\n",
       "    </tr>\n",
       "    <tr>\n",
       "      <th>2010-08-16</th>\n",
       "      <td>107.57</td>\n",
       "      <td>110.127457</td>\n",
       "    </tr>\n",
       "    <tr>\n",
       "      <th>...</th>\n",
       "      <td>...</td>\n",
       "      <td>...</td>\n",
       "    </tr>\n",
       "    <tr>\n",
       "      <th>2011-12-23</th>\n",
       "      <td>125.67</td>\n",
       "      <td>122.554291</td>\n",
       "    </tr>\n",
       "    <tr>\n",
       "      <th>2011-12-27</th>\n",
       "      <td>126.17</td>\n",
       "      <td>123.169968</td>\n",
       "    </tr>\n",
       "    <tr>\n",
       "      <th>2011-12-28</th>\n",
       "      <td>126.51</td>\n",
       "      <td>124.080780</td>\n",
       "    </tr>\n",
       "    <tr>\n",
       "      <th>2011-12-29</th>\n",
       "      <td>125.24</td>\n",
       "      <td>125.133469</td>\n",
       "    </tr>\n",
       "    <tr>\n",
       "      <th>2011-12-30</th>\n",
       "      <td>126.02</td>\n",
       "      <td>125.693642</td>\n",
       "    </tr>\n",
       "  </tbody>\n",
       "</table>\n",
       "<p>354 rows × 2 columns</p>\n",
       "</div>"
      ],
      "text/plain": [
       "              Real   Predicted\n",
       "date                          \n",
       "2010-08-10  112.03  111.584206\n",
       "2010-08-11  110.65  111.528282\n",
       "2010-08-12  107.65  111.324738\n",
       "2010-08-13  108.29  110.818024\n",
       "2010-08-16  107.57  110.127457\n",
       "...            ...         ...\n",
       "2011-12-23  125.67  122.554291\n",
       "2011-12-27  126.17  123.169968\n",
       "2011-12-28  126.51  124.080780\n",
       "2011-12-29  125.24  125.133469\n",
       "2011-12-30  126.02  125.693642\n",
       "\n",
       "[354 rows x 2 columns]"
      ]
     },
     "execution_count": 12,
     "metadata": {},
     "output_type": "execute_result"
    }
   ],
   "source": [
    "stocks = pd.DataFrame({\n",
    "    \"Real\": real_prices.ravel(),\n",
    "    \"Predicted\": predicted_prices.ravel()\n",
    "    }, index = spy07_df.index[-len(real_prices): ])\n",
    "stocks"
   ]
  },
  {
   "cell_type": "code",
   "execution_count": 13,
   "metadata": {},
   "outputs": [
    {
     "data": {
      "text/plain": [
       "<AxesSubplot:xlabel='date'>"
      ]
     },
     "execution_count": 13,
     "metadata": {},
     "output_type": "execute_result"
    },
    {
     "data": {
      "image/png": "[encoded data removed]",
      "text/plain": [
       "<Figure size 432x288 with 1 Axes>"
      ]
     },
     "metadata": {
      "needs_background": "light"
     },
     "output_type": "display_data"
    }
   ],
   "source": [
    "stocks.plot()"
   ]
  },
  {
   "cell_type": "markdown",
   "metadata": {},
   "source": [
    "### 2017 to 2022 S&P Model Predictions ####"
   ]
  },
  {
   "cell_type": "code",
   "execution_count": 14,
   "metadata": {},
   "outputs": [
    {
     "name": "stdout",
     "output_type": "stream",
     "text": [
      "X sample values:\n",
      "[[225.24 226.58 226.4  227.21 226.46]\n",
      " [226.58 226.4  227.21 226.46 226.46]\n",
      " [226.4  227.21 226.46 226.46 227.1 ]\n",
      " [227.21 226.46 226.46 227.1  226.53]\n",
      " [226.46 226.46 227.1  226.53 227.05]] \n",
      "\n",
      "y sample values:\n",
      "[[226.46]\n",
      " [227.1 ]\n",
      " [226.53]\n",
      " [227.05]\n",
      " [226.25]]\n"
     ]
    }
   ],
   "source": [
    "#Produce a dataframe of the 5 year history of the S&P 500 since 2022\n",
    "spy20_df = pd.read_csv(\n",
    "    Path(\"spy_hist_20.csv\"),\n",
    "    index_col=\"date\",\n",
    "    parse_dates=True,\n",
    "    infer_datetime_format=True\n",
    ")\n",
    "\n",
    "\n",
    "####Variables####\n",
    "window_size = 5\n",
    "feature_column = 1\n",
    "target_column = 1\n",
    "\n",
    "#Make the rolling window data\n",
    "X, y = window_data(spy20_df, window_size, feature_column, target_column)\n",
    "print (f\"X sample values:\\n{X[:5]} \\n\")\n",
    "print (f\"y sample values:\\n{y[:5]}\")\n",
    "\n",
    "###New Test Data for 2017 to 2022###\n",
    "X_test = X\n",
    "y_test = y"
   ]
  },
  {
   "cell_type": "code",
   "execution_count": 15,
   "metadata": {},
   "outputs": [],
   "source": [
    "# Use the MinMaxScaler to scale data between 0 and 1.\n",
    "from sklearn.preprocessing import MinMaxScaler\n",
    "\n",
    "# Create a MinMaxScaler object\n",
    "scaler = MinMaxScaler()\n",
    "\n",
    "# Fit the MinMaxScaler object with the training feature data X_train\n",
    "scaler.fit(X_test)\n",
    "\n",
    "# Scale the features training and testing sets\n",
    "X_test = scaler.transform(X_test)\n",
    "\n",
    "# Fit the MinMaxScaler object with the training target data y_train\n",
    "scaler.fit(y_test)\n",
    "\n",
    "# Scale the target training and testing sets\n",
    "y_test = scaler.transform(y_test)\n",
    "\n",
    "X_test = X_test.reshape((X_test.shape[0], X_test.shape[1], 1))"
   ]
  },
  {
   "cell_type": "code",
   "execution_count": 16,
   "metadata": {},
   "outputs": [
    {
     "name": "stdout",
     "output_type": "stream",
     "text": [
      "40/40 [==============================] - 0s 2ms/step - loss: 6.2128e-04\n"
     ]
    },
    {
     "data": {
      "text/plain": [
       "0.0006212791777215898"
      ]
     },
     "execution_count": 16,
     "metadata": {},
     "output_type": "execute_result"
    }
   ],
   "source": [
    "model.evaluate(X_test, y_test)"
   ]
  },
  {
   "cell_type": "code",
   "execution_count": 17,
   "metadata": {},
   "outputs": [],
   "source": [
    "predicted = model.predict(X_test)\n",
    "predicted_prices = scaler.inverse_transform(predicted)\n",
    "real_prices = scaler.inverse_transform(y_test.reshape(-1, 1))"
   ]
  },
  {
   "cell_type": "code",
   "execution_count": 18,
   "metadata": {},
   "outputs": [],
   "source": [
    "predict_stocks_2022 = pd.DataFrame({\n",
    "    \"Real\": real_prices.ravel(),\n",
    "    \"Predicted\": predicted_prices.ravel()\n",
    "    }, index = spy20_df.index[-len(real_prices): ])\n",
    "predict_stocks_2022.to_csv('predict_stocks_2022.csv', index=True, header=True)"
   ]
  }
 ],
 "metadata": {
  "colab": {
   "include_colab_link": true,
   "name": "AI Stock LSTM",
   "provenance": []
  },
  "kernelspec": {
   "display_name": "Python 3 (ipykernel)",
   "language": "python",
   "name": "python3"
  },
  "language_info": {
   "codemirror_mode": {
    "name": "ipython",
    "version": 3
   },
   "file_extension": ".py",
   "mimetype": "text/x-python",
   "name": "python",
   "nbconvert_exporter": "python",
   "pygments_lexer": "ipython3",
   "version": "3.9.7"
  }
 },
 "nbformat": 4,
 "nbformat_minor": 4
}
