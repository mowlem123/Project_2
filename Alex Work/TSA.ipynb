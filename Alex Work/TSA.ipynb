{
 "cells": [
  {
   "cell_type": "markdown",
   "id": "7d214308-cf10-42e4-a78e-a1671bcd5043",
   "metadata": {},
   "source": [
    "# Time Series Analysis"
   ]
  },
  {
   "cell_type": "markdown",
   "id": "7265108b-feb8-4996-94e3-55f24b105108",
   "metadata": {},
   "source": [
    "## Abstract\n",
    "- Using Time Series Analysis for predictions in our machine learning algorithm for the S&P 500. \n",
    "- Time Series Analysis is useful when looking at consistent, intervaled data points. This analysis shows how variables change over time. \n",
    "- Visualize the data to gain insight into the data we are analyzing.\n",
    "    - This step is crucial before building a model using Time Series Analysis. We need to better understand the trends and patterns of the current dataset, before predictions are made.  \n",
    "- Decomposition using the Hodrick Prescott Filter to remove the short term fluctuations in the data. \n",
    "    - Removal of the short term fluctuations should help in analyzing the long term trends. \n",
    "- Build an ARMA model, or Autoregressive Moving Average model, to describe a stationarity analysis between the autoregression, and the moving average. \n",
    "- Build an ARIMA model, or an Integrated ARMA model, for further comparison to determine usefulness of the model. \n",
    "- For added information, GARCH model is used to analyze and predict volatility.  This information will be used by the group to help further determine usefulness of employing Time Series Analysis in our Machine Learning Algorithm. "
   ]
  },
  {
   "cell_type": "markdown",
   "id": "2a8988ae-7f75-42f2-8092-2b4a87cb8533",
   "metadata": {},
   "source": [
    "### Imports"
   ]
  },
  {
   "cell_type": "code",
   "execution_count": 3,
   "id": "7c6629aa-a9e4-41f0-bc36-6a5668091751",
   "metadata": {},
   "outputs": [],
   "source": [
    "# Collect file imports.\n",
    "import numpy as np\n",
    "import pandas as pd\n",
    "from pathlib import Path\n",
    "%matplotlib inline"
   ]
  },
  {
   "cell_type": "markdown",
   "id": "5e0e13d2-c81c-4cd6-9c66-6347a0a6bc72",
   "metadata": {},
   "source": [
    "### Read in Data"
   ]
  },
  {
   "cell_type": "code",
   "execution_count": 5,
   "id": "1f9443f2-ba56-4c14-916f-9f82718f1621",
   "metadata": {},
   "outputs": [
    {
     "data": {
      "text/html": [
       "<div>\n",
       "<style scoped>\n",
       "    .dataframe tbody tr th:only-of-type {\n",
       "        vertical-align: middle;\n",
       "    }\n",
       "\n",
       "    .dataframe tbody tr th {\n",
       "        vertical-align: top;\n",
       "    }\n",
       "\n",
       "    .dataframe thead th {\n",
       "        text-align: right;\n",
       "    }\n",
       "</style>\n",
       "<table border=\"1\" class=\"dataframe\">\n",
       "  <thead>\n",
       "    <tr style=\"text-align: right;\">\n",
       "      <th></th>\n",
       "      <th>open</th>\n",
       "      <th>high</th>\n",
       "      <th>low</th>\n",
       "      <th>close</th>\n",
       "      <th>volume</th>\n",
       "      <th>change</th>\n",
       "      <th>changepercent</th>\n",
       "      <th>daily_ret</th>\n",
       "      <th>volume_adi</th>\n",
       "      <th>volume_obv</th>\n",
       "      <th>...</th>\n",
       "      <th>momentum_ppo</th>\n",
       "      <th>momentum_ppo_signal</th>\n",
       "      <th>momentum_ppo_hist</th>\n",
       "      <th>momentum_pvo</th>\n",
       "      <th>momentum_pvo_signal</th>\n",
       "      <th>momentum_pvo_hist</th>\n",
       "      <th>momentum_kama</th>\n",
       "      <th>others_dr</th>\n",
       "      <th>others_dlr</th>\n",
       "      <th>others_cr</th>\n",
       "    </tr>\n",
       "    <tr>\n",
       "      <th>date</th>\n",
       "      <th></th>\n",
       "      <th></th>\n",
       "      <th></th>\n",
       "      <th></th>\n",
       "      <th></th>\n",
       "      <th></th>\n",
       "      <th></th>\n",
       "      <th></th>\n",
       "      <th></th>\n",
       "      <th></th>\n",
       "      <th></th>\n",
       "      <th></th>\n",
       "      <th></th>\n",
       "      <th></th>\n",
       "      <th></th>\n",
       "      <th></th>\n",
       "      <th></th>\n",
       "      <th></th>\n",
       "      <th></th>\n",
       "      <th></th>\n",
       "      <th></th>\n",
       "    </tr>\n",
       "  </thead>\n",
       "  <tbody>\n",
       "    <tr>\n",
       "      <th>2007-05-01</th>\n",
       "      <td>148.53</td>\n",
       "      <td>149.47</td>\n",
       "      <td>147.67</td>\n",
       "      <td>148.67</td>\n",
       "      <td>134447334</td>\n",
       "      <td>0.38</td>\n",
       "      <td>0.0026</td>\n",
       "      <td>NaN</td>\n",
       "      <td>1.493859e+07</td>\n",
       "      <td>134447334</td>\n",
       "      <td>...</td>\n",
       "      <td>NaN</td>\n",
       "      <td>NaN</td>\n",
       "      <td>NaN</td>\n",
       "      <td>NaN</td>\n",
       "      <td>NaN</td>\n",
       "      <td>NaN</td>\n",
       "      <td>NaN</td>\n",
       "      <td>24.310000</td>\n",
       "      <td>NaN</td>\n",
       "      <td>0.000000</td>\n",
       "    </tr>\n",
       "    <tr>\n",
       "      <th>2007-05-02</th>\n",
       "      <td>149.12</td>\n",
       "      <td>149.95</td>\n",
       "      <td>148.75</td>\n",
       "      <td>149.54</td>\n",
       "      <td>87183213</td>\n",
       "      <td>0.87</td>\n",
       "      <td>0.0059</td>\n",
       "      <td>0.585189</td>\n",
       "      <td>4.254661e+07</td>\n",
       "      <td>221630547</td>\n",
       "      <td>...</td>\n",
       "      <td>NaN</td>\n",
       "      <td>NaN</td>\n",
       "      <td>NaN</td>\n",
       "      <td>NaN</td>\n",
       "      <td>NaN</td>\n",
       "      <td>NaN</td>\n",
       "      <td>NaN</td>\n",
       "      <td>0.585189</td>\n",
       "      <td>0.583483</td>\n",
       "      <td>0.585189</td>\n",
       "    </tr>\n",
       "    <tr>\n",
       "      <th>2007-05-03</th>\n",
       "      <td>149.72</td>\n",
       "      <td>150.40</td>\n",
       "      <td>149.05</td>\n",
       "      <td>150.35</td>\n",
       "      <td>87865741</td>\n",
       "      <td>0.81</td>\n",
       "      <td>0.0054</td>\n",
       "      <td>0.541661</td>\n",
       "      <td>1.239038e+08</td>\n",
       "      <td>309496288</td>\n",
       "      <td>...</td>\n",
       "      <td>NaN</td>\n",
       "      <td>NaN</td>\n",
       "      <td>NaN</td>\n",
       "      <td>NaN</td>\n",
       "      <td>NaN</td>\n",
       "      <td>NaN</td>\n",
       "      <td>NaN</td>\n",
       "      <td>0.541661</td>\n",
       "      <td>0.540199</td>\n",
       "      <td>1.130020</td>\n",
       "    </tr>\n",
       "    <tr>\n",
       "      <th>2007-05-04</th>\n",
       "      <td>150.77</td>\n",
       "      <td>151.12</td>\n",
       "      <td>150.22</td>\n",
       "      <td>150.92</td>\n",
       "      <td>96424729</td>\n",
       "      <td>0.57</td>\n",
       "      <td>0.0038</td>\n",
       "      <td>0.379115</td>\n",
       "      <td>1.774731e+08</td>\n",
       "      <td>405921017</td>\n",
       "      <td>...</td>\n",
       "      <td>NaN</td>\n",
       "      <td>NaN</td>\n",
       "      <td>NaN</td>\n",
       "      <td>NaN</td>\n",
       "      <td>NaN</td>\n",
       "      <td>NaN</td>\n",
       "      <td>NaN</td>\n",
       "      <td>0.379115</td>\n",
       "      <td>0.378399</td>\n",
       "      <td>1.513419</td>\n",
       "    </tr>\n",
       "    <tr>\n",
       "      <th>2007-05-07</th>\n",
       "      <td>150.92</td>\n",
       "      <td>151.20</td>\n",
       "      <td>150.81</td>\n",
       "      <td>150.95</td>\n",
       "      <td>63691549</td>\n",
       "      <td>0.03</td>\n",
       "      <td>0.0002</td>\n",
       "      <td>0.019878</td>\n",
       "      <td>1.595088e+08</td>\n",
       "      <td>469612566</td>\n",
       "      <td>...</td>\n",
       "      <td>NaN</td>\n",
       "      <td>NaN</td>\n",
       "      <td>NaN</td>\n",
       "      <td>NaN</td>\n",
       "      <td>NaN</td>\n",
       "      <td>NaN</td>\n",
       "      <td>NaN</td>\n",
       "      <td>0.019878</td>\n",
       "      <td>0.019876</td>\n",
       "      <td>1.533598</td>\n",
       "    </tr>\n",
       "  </tbody>\n",
       "</table>\n",
       "<p>5 rows × 94 columns</p>\n",
       "</div>"
      ],
      "text/plain": [
       "              open    high     low   close     volume  change  changepercent  \\\n",
       "date                                                                           \n",
       "2007-05-01  148.53  149.47  147.67  148.67  134447334    0.38         0.0026   \n",
       "2007-05-02  149.12  149.95  148.75  149.54   87183213    0.87         0.0059   \n",
       "2007-05-03  149.72  150.40  149.05  150.35   87865741    0.81         0.0054   \n",
       "2007-05-04  150.77  151.12  150.22  150.92   96424729    0.57         0.0038   \n",
       "2007-05-07  150.92  151.20  150.81  150.95   63691549    0.03         0.0002   \n",
       "\n",
       "            daily_ret    volume_adi  volume_obv  ...  momentum_ppo  \\\n",
       "date                                             ...                 \n",
       "2007-05-01        NaN  1.493859e+07   134447334  ...           NaN   \n",
       "2007-05-02   0.585189  4.254661e+07   221630547  ...           NaN   \n",
       "2007-05-03   0.541661  1.239038e+08   309496288  ...           NaN   \n",
       "2007-05-04   0.379115  1.774731e+08   405921017  ...           NaN   \n",
       "2007-05-07   0.019878  1.595088e+08   469612566  ...           NaN   \n",
       "\n",
       "            momentum_ppo_signal  momentum_ppo_hist  momentum_pvo  \\\n",
       "date                                                               \n",
       "2007-05-01                  NaN                NaN           NaN   \n",
       "2007-05-02                  NaN                NaN           NaN   \n",
       "2007-05-03                  NaN                NaN           NaN   \n",
       "2007-05-04                  NaN                NaN           NaN   \n",
       "2007-05-07                  NaN                NaN           NaN   \n",
       "\n",
       "            momentum_pvo_signal  momentum_pvo_hist  momentum_kama  others_dr  \\\n",
       "date                                                                           \n",
       "2007-05-01                  NaN                NaN            NaN  24.310000   \n",
       "2007-05-02                  NaN                NaN            NaN   0.585189   \n",
       "2007-05-03                  NaN                NaN            NaN   0.541661   \n",
       "2007-05-04                  NaN                NaN            NaN   0.379115   \n",
       "2007-05-07                  NaN                NaN            NaN   0.019878   \n",
       "\n",
       "            others_dlr  others_cr  \n",
       "date                               \n",
       "2007-05-01         NaN   0.000000  \n",
       "2007-05-02    0.583483   0.585189  \n",
       "2007-05-03    0.540199   1.130020  \n",
       "2007-05-04    0.378399   1.513419  \n",
       "2007-05-07    0.019876   1.533598  \n",
       "\n",
       "[5 rows x 94 columns]"
      ]
     },
     "execution_count": 5,
     "metadata": {},
     "output_type": "execute_result"
    }
   ],
   "source": [
    "# Read in stock data and infer a date time index.\n",
    "\n",
    "spy07_df = pd.read_csv(\n",
    "    Path('../spy_hist_07.csv'), index_col='date', infer_datetime_format=True, parse_dates= True\n",
    ")\n",
    "\n",
    "spy07_df.head()"
   ]
  },
  {
   "cell_type": "code",
   "execution_count": 6,
   "id": "ef8ce27e-1108-4b35-80c4-50ac03716172",
   "metadata": {},
   "outputs": [
    {
     "data": {
      "text/html": [
       "<div>\n",
       "<style scoped>\n",
       "    .dataframe tbody tr th:only-of-type {\n",
       "        vertical-align: middle;\n",
       "    }\n",
       "\n",
       "    .dataframe tbody tr th {\n",
       "        vertical-align: top;\n",
       "    }\n",
       "\n",
       "    .dataframe thead th {\n",
       "        text-align: right;\n",
       "    }\n",
       "</style>\n",
       "<table border=\"1\" class=\"dataframe\">\n",
       "  <thead>\n",
       "    <tr style=\"text-align: right;\">\n",
       "      <th></th>\n",
       "      <th>open</th>\n",
       "      <th>high</th>\n",
       "      <th>low</th>\n",
       "      <th>close</th>\n",
       "      <th>volume</th>\n",
       "      <th>change</th>\n",
       "    </tr>\n",
       "    <tr>\n",
       "      <th>date</th>\n",
       "      <th></th>\n",
       "      <th></th>\n",
       "      <th></th>\n",
       "      <th></th>\n",
       "      <th></th>\n",
       "      <th></th>\n",
       "    </tr>\n",
       "  </thead>\n",
       "  <tbody>\n",
       "    <tr>\n",
       "      <th>2007-05-01</th>\n",
       "      <td>148.53</td>\n",
       "      <td>149.47</td>\n",
       "      <td>147.67</td>\n",
       "      <td>148.67</td>\n",
       "      <td>134447334</td>\n",
       "      <td>0.38</td>\n",
       "    </tr>\n",
       "    <tr>\n",
       "      <th>2007-05-02</th>\n",
       "      <td>149.12</td>\n",
       "      <td>149.95</td>\n",
       "      <td>148.75</td>\n",
       "      <td>149.54</td>\n",
       "      <td>87183213</td>\n",
       "      <td>0.87</td>\n",
       "    </tr>\n",
       "    <tr>\n",
       "      <th>2007-05-03</th>\n",
       "      <td>149.72</td>\n",
       "      <td>150.40</td>\n",
       "      <td>149.05</td>\n",
       "      <td>150.35</td>\n",
       "      <td>87865741</td>\n",
       "      <td>0.81</td>\n",
       "    </tr>\n",
       "    <tr>\n",
       "      <th>2007-05-04</th>\n",
       "      <td>150.77</td>\n",
       "      <td>151.12</td>\n",
       "      <td>150.22</td>\n",
       "      <td>150.92</td>\n",
       "      <td>96424729</td>\n",
       "      <td>0.57</td>\n",
       "    </tr>\n",
       "    <tr>\n",
       "      <th>2007-05-07</th>\n",
       "      <td>150.92</td>\n",
       "      <td>151.20</td>\n",
       "      <td>150.81</td>\n",
       "      <td>150.95</td>\n",
       "      <td>63691549</td>\n",
       "      <td>0.03</td>\n",
       "    </tr>\n",
       "  </tbody>\n",
       "</table>\n",
       "</div>"
      ],
      "text/plain": [
       "              open    high     low   close     volume  change\n",
       "date                                                         \n",
       "2007-05-01  148.53  149.47  147.67  148.67  134447334    0.38\n",
       "2007-05-02  149.12  149.95  148.75  149.54   87183213    0.87\n",
       "2007-05-03  149.72  150.40  149.05  150.35   87865741    0.81\n",
       "2007-05-04  150.77  151.12  150.22  150.92   96424729    0.57\n",
       "2007-05-07  150.92  151.20  150.81  150.95   63691549    0.03"
      ]
     },
     "execution_count": 6,
     "metadata": {},
     "output_type": "execute_result"
    }
   ],
   "source": [
    "# Clean the data to only keep the necessary columns for the regression model. \n",
    "# These columns contain the integers needed to run the model. \n",
    "spy07_df = spy07_df[['open', 'high', 'low', 'close', 'volume', 'change']]\n",
    "spy07_df.head()"
   ]
  },
  {
   "cell_type": "markdown",
   "id": "5c502989-ae51-4bc1-ba2b-9f4390c8f83f",
   "metadata": {},
   "source": [
    "## Return: Initial Time-Series Plot"
   ]
  },
  {
   "cell_type": "code",
   "execution_count": 7,
   "id": "bd6e46f7-1aca-472d-9899-66a3a3a62fa2",
   "metadata": {},
   "outputs": [
    {
     "data": {
      "text/plain": [
       "<AxesSubplot:title={'center':'S&P 500 Index Close Price'}, xlabel='date'>"
      ]
     },
     "execution_count": 7,
     "metadata": {},
     "output_type": "execute_result"
    },
    {
     "data": {
      "image/png": "[encoded data removed]",
      "text/plain": [
       "<Figure size 720x576 with 1 Axes>"
      ]
     },
     "metadata": {
      "needs_background": "light"
     },
     "output_type": "display_data"
    }
   ],
   "source": [
    "# Plot the close column\n",
    "\n",
    "spy07_df[['close']].plot(figsize= (10, 8), title= 'S&P 500 Index Close Price')\n",
    "\n"
   ]
  },
  {
   "cell_type": "markdown",
   "id": "b16b6c0d-9806-4197-b0db-da81fd94cc5a",
   "metadata": {},
   "source": [
    "# Decomposition\n",
    "## Hodrick-Prescott Filter"
   ]
  },
  {
   "cell_type": "markdown",
   "id": "ccf91d5f-4a88-419e-a72b-0e5c046bf223",
   "metadata": {},
   "source": [
    "- Hodrick-Prescott filter is used to separate noise and the trend of the dataset. \n",
    "- This cleans the data and aids in understanding of the correlation between the noise and trend of the price. "
   ]
  },
  {
   "cell_type": "code",
   "execution_count": 8,
   "id": "33291b38-8864-47f8-ae38-b41d248feb83",
   "metadata": {},
   "outputs": [],
   "source": [
    "import statsmodels.api as sm"
   ]
  },
  {
   "cell_type": "code",
   "execution_count": 9,
   "id": "d04a4fdb-e7f3-4702-805d-bfc6be95bf6f",
   "metadata": {},
   "outputs": [],
   "source": [
    "# HPF breakdown of two separate series of noise and trend from the close price. \n",
    "ts_noise, ts_trend = sm.tsa.filters.hpfilter(spy07_df[\"close\"])"
   ]
  },
  {
   "cell_type": "code",
   "execution_count": 10,
   "id": "cb90b260-3a04-4458-925f-2b90e55b4ddc",
   "metadata": {},
   "outputs": [
    {
     "data": {
      "text/html": [
       "<div>\n",
       "<style scoped>\n",
       "    .dataframe tbody tr th:only-of-type {\n",
       "        vertical-align: middle;\n",
       "    }\n",
       "\n",
       "    .dataframe tbody tr th {\n",
       "        vertical-align: top;\n",
       "    }\n",
       "\n",
       "    .dataframe thead th {\n",
       "        text-align: right;\n",
       "    }\n",
       "</style>\n",
       "<table border=\"1\" class=\"dataframe\">\n",
       "  <thead>\n",
       "    <tr style=\"text-align: right;\">\n",
       "      <th></th>\n",
       "      <th>close</th>\n",
       "      <th>noise</th>\n",
       "      <th>trend</th>\n",
       "    </tr>\n",
       "    <tr>\n",
       "      <th>date</th>\n",
       "      <th></th>\n",
       "      <th></th>\n",
       "      <th></th>\n",
       "    </tr>\n",
       "  </thead>\n",
       "  <tbody>\n",
       "    <tr>\n",
       "      <th>2007-05-01</th>\n",
       "      <td>148.67</td>\n",
       "      <td>-1.144212</td>\n",
       "      <td>149.814212</td>\n",
       "    </tr>\n",
       "    <tr>\n",
       "      <th>2007-05-02</th>\n",
       "      <td>149.54</td>\n",
       "      <td>-0.434862</td>\n",
       "      <td>149.974862</td>\n",
       "    </tr>\n",
       "    <tr>\n",
       "      <th>2007-05-03</th>\n",
       "      <td>150.35</td>\n",
       "      <td>0.215203</td>\n",
       "      <td>150.134797</td>\n",
       "    </tr>\n",
       "    <tr>\n",
       "      <th>2007-05-04</th>\n",
       "      <td>150.92</td>\n",
       "      <td>0.626971</td>\n",
       "      <td>150.293029</td>\n",
       "    </tr>\n",
       "    <tr>\n",
       "      <th>2007-05-07</th>\n",
       "      <td>150.95</td>\n",
       "      <td>0.501293</td>\n",
       "      <td>150.448707</td>\n",
       "    </tr>\n",
       "  </tbody>\n",
       "</table>\n",
       "</div>"
      ],
      "text/plain": [
       "             close     noise       trend\n",
       "date                                    \n",
       "2007-05-01  148.67 -1.144212  149.814212\n",
       "2007-05-02  149.54 -0.434862  149.974862\n",
       "2007-05-03  150.35  0.215203  150.134797\n",
       "2007-05-04  150.92  0.626971  150.293029\n",
       "2007-05-07  150.95  0.501293  150.448707"
      ]
     },
     "execution_count": 10,
     "metadata": {},
     "output_type": "execute_result"
    }
   ],
   "source": [
    "# Create datafrome of just the close, noise, and trend data.\n",
    "\n",
    "futures_decomp = spy07_df[['close']].copy()\n",
    "futures_decomp['noise'] = ts_noise\n",
    "futures_decomp['trend'] = ts_trend\n",
    "futures_decomp.head()"
   ]
  },
  {
   "cell_type": "code",
   "execution_count": 11,
   "id": "defb0673-7522-4811-ac84-c607ed1d0907",
   "metadata": {},
   "outputs": [
    {
     "data": {
      "text/plain": [
       "<AxesSubplot:title={'center':'Close vs. Trend'}, xlabel='date'>"
      ]
     },
     "execution_count": 11,
     "metadata": {},
     "output_type": "execute_result"
    },
    {
     "data": {
      "image/png": "[encoded data removed]",
      "text/plain": [
       "<Figure size 720x576 with 1 Axes>"
      ]
     },
     "metadata": {
      "needs_background": "light"
     },
     "output_type": "display_data"
    }
   ],
   "source": [
    "# Plot close price vs. the trend for the data set.\n",
    "futures_decomp[['close', 'trend']].plot(figsize=(10, 8), title = \"Close vs. Trend\")"
   ]
  },
  {
   "cell_type": "code",
   "execution_count": 12,
   "id": "79cd218b-a3bd-4d30-b597-e66af8f84f3c",
   "metadata": {},
   "outputs": [
    {
     "data": {
      "text/plain": [
       "<AxesSubplot:title={'center':'noise'}, xlabel='date'>"
      ]
     },
     "execution_count": 12,
     "metadata": {},
     "output_type": "execute_result"
    },
    {
     "data": {
      "image/png": "[encoded data removed]",
      "text/plain": [
       "<Figure size 864x576 with 1 Axes>"
      ]
     },
     "metadata": {
      "needs_background": "light"
     },
     "output_type": "display_data"
    }
   ],
   "source": [
    "# Plot the close noise\n",
    "ts_noise.plot(figsize=(12, 8), title=\"noise\")"
   ]
  },
  {
   "cell_type": "markdown",
   "id": "1c0f9f9f-cd91-4ae7-a13d-bef5df934f1c",
   "metadata": {},
   "source": [
    "# ARMA Model Forcasting"
   ]
  },
  {
   "cell_type": "code",
   "execution_count": 14,
   "id": "612c9431-1dff-44c8-989d-fd7fce5cacb9",
   "metadata": {},
   "outputs": [
    {
     "data": {
      "text/html": [
       "<div>\n",
       "<style scoped>\n",
       "    .dataframe tbody tr th:only-of-type {\n",
       "        vertical-align: middle;\n",
       "    }\n",
       "\n",
       "    .dataframe tbody tr th {\n",
       "        vertical-align: top;\n",
       "    }\n",
       "\n",
       "    .dataframe thead th {\n",
       "        text-align: right;\n",
       "    }\n",
       "</style>\n",
       "<table border=\"1\" class=\"dataframe\">\n",
       "  <thead>\n",
       "    <tr style=\"text-align: right;\">\n",
       "      <th></th>\n",
       "      <th>close</th>\n",
       "    </tr>\n",
       "    <tr>\n",
       "      <th>date</th>\n",
       "      <th></th>\n",
       "    </tr>\n",
       "  </thead>\n",
       "  <tbody>\n",
       "    <tr>\n",
       "      <th>2011-12-23</th>\n",
       "      <td>0.894069</td>\n",
       "    </tr>\n",
       "    <tr>\n",
       "      <th>2011-12-27</th>\n",
       "      <td>0.079120</td>\n",
       "    </tr>\n",
       "    <tr>\n",
       "      <th>2011-12-28</th>\n",
       "      <td>-1.312357</td>\n",
       "    </tr>\n",
       "    <tr>\n",
       "      <th>2011-12-29</th>\n",
       "      <td>1.033405</td>\n",
       "    </tr>\n",
       "    <tr>\n",
       "      <th>2011-12-30</th>\n",
       "      <td>-0.491595</td>\n",
       "    </tr>\n",
       "  </tbody>\n",
       "</table>\n",
       "</div>"
      ],
      "text/plain": [
       "               close\n",
       "date                \n",
       "2011-12-23  0.894069\n",
       "2011-12-27  0.079120\n",
       "2011-12-28 -1.312357\n",
       "2011-12-29  1.033405\n",
       "2011-12-30 -0.491595"
      ]
     },
     "execution_count": 14,
     "metadata": {},
     "output_type": "execute_result"
    }
   ],
   "source": [
    "# Create series for returns using the percent change of the close price. \n",
    "# Replace inf, -inf values with np.nan's\n",
    "returns = (spy07_df[['close']].pct_change() * 100)\n",
    "returns = returns.replace(-np.inf, np.nan).dropna()\n",
    "returns.tail()"
   ]
  },
  {
   "cell_type": "code",
   "execution_count": 15,
   "id": "ff875049-e477-4c18-8a9f-5dfa2d8729f6",
   "metadata": {},
   "outputs": [
    {
     "name": "stderr",
     "output_type": "stream",
     "text": [
      "C:\\Users\\alexm\\Anaconda\\lib\\site-packages\\statsmodels\\tsa\\arima_model.py:472: FutureWarning: \n",
      "statsmodels.tsa.arima_model.ARMA and statsmodels.tsa.arima_model.ARIMA have\n",
      "been deprecated in favor of statsmodels.tsa.arima.model.ARIMA (note the .\n",
      "between arima and model) and\n",
      "statsmodels.tsa.SARIMAX. These will be removed after the 0.12 release.\n",
      "\n",
      "statsmodels.tsa.arima.model.ARIMA makes use of the statespace framework and\n",
      "is both well tested and maintained.\n",
      "\n",
      "To silence this warning and continue using ARMA and ARIMA until they are\n",
      "removed, use:\n",
      "\n",
      "import warnings\n",
      "warnings.filterwarnings('ignore', 'statsmodels.tsa.arima_model.ARMA',\n",
      "                        FutureWarning)\n",
      "warnings.filterwarnings('ignore', 'statsmodels.tsa.arima_model.ARIMA',\n",
      "                        FutureWarning)\n",
      "\n",
      "  warnings.warn(ARIMA_DEPRECATION_WARN, FutureWarning)\n",
      "C:\\Users\\alexm\\Anaconda\\lib\\site-packages\\statsmodels\\tsa\\base\\tsa_model.py:581: ValueWarning: A date index has been provided, but it has no associated frequency information and so will be ignored when e.g. forecasting.\n",
      "  warnings.warn('A date index has been provided, but it has no'\n"
     ]
    }
   ],
   "source": [
    "import statsmodels.api as sm\n",
    "\n",
    "# Estimate and ARMA model using statsmodels (order=(2, 1))\n",
    "model = sm.tsa.ARMA(returns, order=(2, 1))\n",
    "\n",
    "# Fit the model and assign it to results\n",
    "results = model.fit()"
   ]
  },
  {
   "cell_type": "code",
   "execution_count": 16,
   "id": "471c24d0-7042-4c3c-b4b4-ea6a66f352d8",
   "metadata": {},
   "outputs": [
    {
     "data": {
      "text/html": [
       "<table class=\"simpletable\">\n",
       "<caption>ARMA Model Results</caption>\n",
       "<tr>\n",
       "  <th>Dep. Variable:</th>       <td>close</td>      <th>  No. Observations:  </th>   <td>1182</td>   \n",
       "</tr>\n",
       "<tr>\n",
       "  <th>Model:</th>            <td>ARMA(2, 1)</td>    <th>  Log Likelihood     </th> <td>-2299.888</td>\n",
       "</tr>\n",
       "<tr>\n",
       "  <th>Method:</th>             <td>css-mle</td>     <th>  S.D. of innovations</th>   <td>1.694</td>  \n",
       "</tr>\n",
       "<tr>\n",
       "  <th>Date:</th>          <td>Wed, 13 Apr 2022</td> <th>  AIC                </th> <td>4609.775</td> \n",
       "</tr>\n",
       "<tr>\n",
       "  <th>Time:</th>              <td>16:35:21</td>     <th>  BIC                </th> <td>4635.150</td> \n",
       "</tr>\n",
       "<tr>\n",
       "  <th>Sample:</th>                <td>0</td>        <th>  HQIC               </th> <td>4619.341</td> \n",
       "</tr>\n",
       "<tr>\n",
       "  <th></th>                       <td> </td>        <th>                     </th>     <td> </td>    \n",
       "</tr>\n",
       "</table>\n",
       "<table class=\"simpletable\">\n",
       "<tr>\n",
       "       <td></td>          <th>coef</th>     <th>std err</th>      <th>z</th>      <th>P>|z|</th>  <th>[0.025</th>    <th>0.975]</th>  \n",
       "</tr>\n",
       "<tr>\n",
       "  <th>const</th>       <td>    0.0002</td> <td>    0.041</td> <td>    0.005</td> <td> 0.996</td> <td>   -0.080</td> <td>    0.080</td>\n",
       "</tr>\n",
       "<tr>\n",
       "  <th>ar.L1.close</th> <td>   -0.2610</td> <td>    0.204</td> <td>   -1.277</td> <td> 0.202</td> <td>   -0.662</td> <td>    0.140</td>\n",
       "</tr>\n",
       "<tr>\n",
       "  <th>ar.L2.close</th> <td>   -0.1270</td> <td>    0.034</td> <td>   -3.761</td> <td> 0.000</td> <td>   -0.193</td> <td>   -0.061</td>\n",
       "</tr>\n",
       "<tr>\n",
       "  <th>ma.L1.close</th> <td>    0.1477</td> <td>    0.205</td> <td>    0.719</td> <td> 0.472</td> <td>   -0.255</td> <td>    0.550</td>\n",
       "</tr>\n",
       "</table>\n",
       "<table class=\"simpletable\">\n",
       "<caption>Roots</caption>\n",
       "<tr>\n",
       "    <td></td>   <th>            Real</th>  <th>         Imaginary</th> <th>         Modulus</th>  <th>        Frequency</th>\n",
       "</tr>\n",
       "<tr>\n",
       "  <th>AR.1</th> <td>          -1.0276</td> <td>          -2.6112j</td> <td>           2.8061</td> <td>          -0.3097</td>\n",
       "</tr>\n",
       "<tr>\n",
       "  <th>AR.2</th> <td>          -1.0276</td> <td>          +2.6112j</td> <td>           2.8061</td> <td>           0.3097</td>\n",
       "</tr>\n",
       "<tr>\n",
       "  <th>MA.1</th> <td>          -6.7688</td> <td>          +0.0000j</td> <td>           6.7688</td> <td>           0.5000</td>\n",
       "</tr>\n",
       "</table>"
      ],
      "text/plain": [
       "<class 'statsmodels.iolib.summary.Summary'>\n",
       "\"\"\"\n",
       "                              ARMA Model Results                              \n",
       "==============================================================================\n",
       "Dep. Variable:                  close   No. Observations:                 1182\n",
       "Model:                     ARMA(2, 1)   Log Likelihood               -2299.888\n",
       "Method:                       css-mle   S.D. of innovations              1.694\n",
       "Date:                Wed, 13 Apr 2022   AIC                           4609.775\n",
       "Time:                        16:35:21   BIC                           4635.150\n",
       "Sample:                             0   HQIC                          4619.341\n",
       "                                                                              \n",
       "===============================================================================\n",
       "                  coef    std err          z      P>|z|      [0.025      0.975]\n",
       "-------------------------------------------------------------------------------\n",
       "const           0.0002      0.041      0.005      0.996      -0.080       0.080\n",
       "ar.L1.close    -0.2610      0.204     -1.277      0.202      -0.662       0.140\n",
       "ar.L2.close    -0.1270      0.034     -3.761      0.000      -0.193      -0.061\n",
       "ma.L1.close     0.1477      0.205      0.719      0.472      -0.255       0.550\n",
       "                                    Roots                                    \n",
       "=============================================================================\n",
       "                  Real          Imaginary           Modulus         Frequency\n",
       "-----------------------------------------------------------------------------\n",
       "AR.1           -1.0276           -2.6112j            2.8061           -0.3097\n",
       "AR.2           -1.0276           +2.6112j            2.8061            0.3097\n",
       "MA.1           -6.7688           +0.0000j            6.7688            0.5000\n",
       "-----------------------------------------------------------------------------\n",
       "\"\"\""
      ]
     },
     "execution_count": 16,
     "metadata": {},
     "output_type": "execute_result"
    }
   ],
   "source": [
    "# Output model summary results:\n",
    "results.summary()"
   ]
  },
  {
   "cell_type": "code",
   "execution_count": 17,
   "id": "4ed1603e-2fbe-4bb9-85dd-fe73154ef643",
   "metadata": {},
   "outputs": [
    {
     "data": {
      "text/plain": [
       "<AxesSubplot:title={'center':'5 Day Returns Forecast'}>"
      ]
     },
     "execution_count": 17,
     "metadata": {},
     "output_type": "execute_result"
    },
    {
     "data": {
      "image/png": "[encoded data removed]",
      "text/plain": [
       "<Figure size 432x288 with 1 Axes>"
      ]
     },
     "metadata": {
      "needs_background": "light"
     },
     "output_type": "display_data"
    }
   ],
   "source": [
    "# Plot the 5 Day Returns Forecast\n",
    "pd.DataFrame(results.forecast(steps=5)[0]).plot(title=\"5 Day Returns Forecast\")"
   ]
  },
  {
   "cell_type": "markdown",
   "id": "08f96f62-ff34-42cf-96f6-ee1313311d8f",
   "metadata": {},
   "source": [
    "# ARIMA Model Forcasting"
   ]
  },
  {
   "cell_type": "code",
   "execution_count": 18,
   "id": "861f7711-54db-4e55-ac0f-682b26f71820",
   "metadata": {},
   "outputs": [
    {
     "name": "stderr",
     "output_type": "stream",
     "text": [
      "C:\\Users\\alexm\\Anaconda\\lib\\site-packages\\statsmodels\\tsa\\arima_model.py:472: FutureWarning: \n",
      "statsmodels.tsa.arima_model.ARMA and statsmodels.tsa.arima_model.ARIMA have\n",
      "been deprecated in favor of statsmodels.tsa.arima.model.ARIMA (note the .\n",
      "between arima and model) and\n",
      "statsmodels.tsa.SARIMAX. These will be removed after the 0.12 release.\n",
      "\n",
      "statsmodels.tsa.arima.model.ARIMA makes use of the statespace framework and\n",
      "is both well tested and maintained.\n",
      "\n",
      "To silence this warning and continue using ARMA and ARIMA until they are\n",
      "removed, use:\n",
      "\n",
      "import warnings\n",
      "warnings.filterwarnings('ignore', 'statsmodels.tsa.arima_model.ARMA',\n",
      "                        FutureWarning)\n",
      "warnings.filterwarnings('ignore', 'statsmodels.tsa.arima_model.ARIMA',\n",
      "                        FutureWarning)\n",
      "\n",
      "  warnings.warn(ARIMA_DEPRECATION_WARN, FutureWarning)\n",
      "C:\\Users\\alexm\\Anaconda\\lib\\site-packages\\statsmodels\\tsa\\base\\tsa_model.py:581: ValueWarning: A date index has been provided, but it has no associated frequency information and so will be ignored when e.g. forecasting.\n",
      "  warnings.warn('A date index has been provided, but it has no'\n",
      "C:\\Users\\alexm\\Anaconda\\lib\\site-packages\\statsmodels\\tsa\\base\\tsa_model.py:581: ValueWarning: A date index has been provided, but it has no associated frequency information and so will be ignored when e.g. forecasting.\n",
      "  warnings.warn('A date index has been provided, but it has no'\n"
     ]
    }
   ],
   "source": [
    "from statsmodels.tsa.arima_model import ARIMA\n",
    "\n",
    "# Estimate and ARIMA Model:\n",
    "# ARIMA(df, order=(p, d, q))\n",
    "model = ARIMA(spy07_df[[\"close\"]], order=(5, 1, 1))\n",
    "\n",
    "# Fit the model\n",
    "results = model.fit()"
   ]
  },
  {
   "cell_type": "code",
   "execution_count": 19,
   "id": "a4f7de02-94a9-4f70-afd8-7443cdb2baae",
   "metadata": {},
   "outputs": [
    {
     "data": {
      "text/html": [
       "<table class=\"simpletable\">\n",
       "<caption>ARIMA Model Results</caption>\n",
       "<tr>\n",
       "  <th>Dep. Variable:</th>      <td>D.close</td>     <th>  No. Observations:  </th>   <td>1182</td>   \n",
       "</tr>\n",
       "<tr>\n",
       "  <th>Model:</th>          <td>ARIMA(5, 1, 1)</td>  <th>  Log Likelihood     </th> <td>-2377.216</td>\n",
       "</tr>\n",
       "<tr>\n",
       "  <th>Method:</th>             <td>css-mle</td>     <th>  S.D. of innovations</th>   <td>1.808</td>  \n",
       "</tr>\n",
       "<tr>\n",
       "  <th>Date:</th>          <td>Wed, 13 Apr 2022</td> <th>  AIC                </th> <td>4770.431</td> \n",
       "</tr>\n",
       "<tr>\n",
       "  <th>Time:</th>              <td>16:37:51</td>     <th>  BIC                </th> <td>4811.031</td> \n",
       "</tr>\n",
       "<tr>\n",
       "  <th>Sample:</th>                <td>1</td>        <th>  HQIC               </th> <td>4785.736</td> \n",
       "</tr>\n",
       "<tr>\n",
       "  <th></th>                       <td> </td>        <th>                     </th>     <td> </td>    \n",
       "</tr>\n",
       "</table>\n",
       "<table class=\"simpletable\">\n",
       "<tr>\n",
       "        <td></td>           <th>coef</th>     <th>std err</th>      <th>z</th>      <th>P>|z|</th>  <th>[0.025</th>    <th>0.975]</th>  \n",
       "</tr>\n",
       "<tr>\n",
       "  <th>const</th>         <td>   -0.0199</td> <td>    0.042</td> <td>   -0.472</td> <td> 0.637</td> <td>   -0.102</td> <td>    0.063</td>\n",
       "</tr>\n",
       "<tr>\n",
       "  <th>ar.L1.D.close</th> <td>    0.1293</td> <td>    0.704</td> <td>    0.184</td> <td> 0.854</td> <td>   -1.251</td> <td>    1.510</td>\n",
       "</tr>\n",
       "<tr>\n",
       "  <th>ar.L2.D.close</th> <td>   -0.0578</td> <td>    0.083</td> <td>   -0.695</td> <td> 0.487</td> <td>   -0.221</td> <td>    0.105</td>\n",
       "</tr>\n",
       "<tr>\n",
       "  <th>ar.L3.D.close</th> <td>    0.0278</td> <td>    0.067</td> <td>    0.414</td> <td> 0.679</td> <td>   -0.104</td> <td>    0.160</td>\n",
       "</tr>\n",
       "<tr>\n",
       "  <th>ar.L4.D.close</th> <td>    0.0006</td> <td>    0.030</td> <td>    0.020</td> <td> 0.984</td> <td>   -0.058</td> <td>    0.060</td>\n",
       "</tr>\n",
       "<tr>\n",
       "  <th>ar.L5.D.close</th> <td>   -0.0485</td> <td>    0.029</td> <td>   -1.665</td> <td> 0.096</td> <td>   -0.106</td> <td>    0.009</td>\n",
       "</tr>\n",
       "<tr>\n",
       "  <th>ma.L1.D.close</th> <td>   -0.2402</td> <td>    0.706</td> <td>   -0.340</td> <td> 0.733</td> <td>   -1.623</td> <td>    1.143</td>\n",
       "</tr>\n",
       "</table>\n",
       "<table class=\"simpletable\">\n",
       "<caption>Roots</caption>\n",
       "<tr>\n",
       "    <td></td>   <th>            Real</th>  <th>         Imaginary</th> <th>         Modulus</th>  <th>        Frequency</th>\n",
       "</tr>\n",
       "<tr>\n",
       "  <th>AR.1</th> <td>           1.4862</td> <td>          -1.0221j</td> <td>           1.8037</td> <td>          -0.0959</td>\n",
       "</tr>\n",
       "<tr>\n",
       "  <th>AR.2</th> <td>           1.4862</td> <td>          +1.0221j</td> <td>           1.8037</td> <td>           0.0959</td>\n",
       "</tr>\n",
       "<tr>\n",
       "  <th>AR.3</th> <td>          -0.4576</td> <td>          -1.7001j</td> <td>           1.7606</td> <td>          -0.2918</td>\n",
       "</tr>\n",
       "<tr>\n",
       "  <th>AR.4</th> <td>          -0.4576</td> <td>          +1.7001j</td> <td>           1.7606</td> <td>           0.2918</td>\n",
       "</tr>\n",
       "<tr>\n",
       "  <th>AR.5</th> <td>          -2.0448</td> <td>          -0.0000j</td> <td>           2.0448</td> <td>          -0.5000</td>\n",
       "</tr>\n",
       "<tr>\n",
       "  <th>MA.1</th> <td>           4.1627</td> <td>          +0.0000j</td> <td>           4.1627</td> <td>           0.0000</td>\n",
       "</tr>\n",
       "</table>"
      ],
      "text/plain": [
       "<class 'statsmodels.iolib.summary.Summary'>\n",
       "\"\"\"\n",
       "                             ARIMA Model Results                              \n",
       "==============================================================================\n",
       "Dep. Variable:                D.close   No. Observations:                 1182\n",
       "Model:                 ARIMA(5, 1, 1)   Log Likelihood               -2377.216\n",
       "Method:                       css-mle   S.D. of innovations              1.808\n",
       "Date:                Wed, 13 Apr 2022   AIC                           4770.431\n",
       "Time:                        16:37:51   BIC                           4811.031\n",
       "Sample:                             1   HQIC                          4785.736\n",
       "                                                                              \n",
       "=================================================================================\n",
       "                    coef    std err          z      P>|z|      [0.025      0.975]\n",
       "---------------------------------------------------------------------------------\n",
       "const            -0.0199      0.042     -0.472      0.637      -0.102       0.063\n",
       "ar.L1.D.close     0.1293      0.704      0.184      0.854      -1.251       1.510\n",
       "ar.L2.D.close    -0.0578      0.083     -0.695      0.487      -0.221       0.105\n",
       "ar.L3.D.close     0.0278      0.067      0.414      0.679      -0.104       0.160\n",
       "ar.L4.D.close     0.0006      0.030      0.020      0.984      -0.058       0.060\n",
       "ar.L5.D.close    -0.0485      0.029     -1.665      0.096      -0.106       0.009\n",
       "ma.L1.D.close    -0.2402      0.706     -0.340      0.733      -1.623       1.143\n",
       "                                    Roots                                    \n",
       "=============================================================================\n",
       "                  Real          Imaginary           Modulus         Frequency\n",
       "-----------------------------------------------------------------------------\n",
       "AR.1            1.4862           -1.0221j            1.8037           -0.0959\n",
       "AR.2            1.4862           +1.0221j            1.8037            0.0959\n",
       "AR.3           -0.4576           -1.7001j            1.7606           -0.2918\n",
       "AR.4           -0.4576           +1.7001j            1.7606            0.2918\n",
       "AR.5           -2.0448           -0.0000j            2.0448           -0.5000\n",
       "MA.1            4.1627           +0.0000j            4.1627            0.0000\n",
       "-----------------------------------------------------------------------------\n",
       "\"\"\""
      ]
     },
     "execution_count": 19,
     "metadata": {},
     "output_type": "execute_result"
    }
   ],
   "source": [
    "# Output model summary results:\n",
    "results.summary()"
   ]
  },
  {
   "cell_type": "code",
   "execution_count": 21,
   "id": "a581c736-54bb-4af9-86f5-f50c6de3482f",
   "metadata": {},
   "outputs": [
    {
     "data": {
      "text/plain": [
       "<AxesSubplot:title={'center':'5 Day Future Price Forecast'}>"
      ]
     },
     "execution_count": 21,
     "metadata": {},
     "output_type": "execute_result"
    },
    {
     "data": {
      "image/png": "[encoded data removed]",
      "text/plain": [
       "<Figure size 432x288 with 1 Axes>"
      ]
     },
     "metadata": {
      "needs_background": "light"
     },
     "output_type": "display_data"
    }
   ],
   "source": [
    "# Plot the 5 Day Price Forecast\n",
    "pd.DataFrame(results.forecast(steps=5)[0]).plot(title=\"5 Day Future Price Forecast\")"
   ]
  },
  {
   "cell_type": "markdown",
   "id": "8dc2cf2f-08c8-41b3-8593-249cfabd2781",
   "metadata": {},
   "source": [
    "# GARCH Volatility"
   ]
  },
  {
   "cell_type": "code",
   "execution_count": 22,
   "id": "57728dc4-c1a8-49fa-a5d2-6aa1ed87c15a",
   "metadata": {},
   "outputs": [],
   "source": [
    "import arch"
   ]
  },
  {
   "cell_type": "code",
   "execution_count": 23,
   "id": "acb05cff-0ef0-45c2-9498-600dbbf84007",
   "metadata": {},
   "outputs": [
    {
     "name": "stdout",
     "output_type": "stream",
     "text": [
      "Iteration:      1,   Func. Count:      6,   Neg. LLF: 657995797.4943347\n",
      "Iteration:      2,   Func. Count:     13,   Neg. LLF: 2602.588435826489\n",
      "Iteration:      3,   Func. Count:     19,   Neg. LLF: 2024.4025312205358\n",
      "Iteration:      4,   Func. Count:     25,   Neg. LLF: 4518.66549715106\n",
      "Iteration:      5,   Func. Count:     31,   Neg. LLF: 2006.416005732497\n",
      "Iteration:      6,   Func. Count:     37,   Neg. LLF: 2004.0338896843632\n",
      "Iteration:      7,   Func. Count:     42,   Neg. LLF: 2003.885015222702\n",
      "Iteration:      8,   Func. Count:     47,   Neg. LLF: 2003.882846233751\n",
      "Iteration:      9,   Func. Count:     53,   Neg. LLF: 2003.8682408279933\n",
      "Iteration:     10,   Func. Count:     59,   Neg. LLF: 2003.8543433905975\n",
      "Iteration:     11,   Func. Count:     64,   Neg. LLF: 2003.854310507287\n",
      "Iteration:     12,   Func. Count:     68,   Neg. LLF: 2003.8543105073072\n",
      "Optimization terminated successfully    (Exit mode 0)\n",
      "            Current function value: 2003.854310507287\n",
      "            Iterations: 12\n",
      "            Function evaluations: 68\n",
      "            Gradient evaluations: 12\n"
     ]
    }
   ],
   "source": [
    "model = arch.arch_model(returns, mean=\"Zero\", vol=\"GARCH\", p=2, q=1)\n",
    "\n",
    "# Fit the model\n",
    "results = model.fit()"
   ]
  },
  {
   "cell_type": "code",
   "execution_count": 24,
   "id": "5a1798a5-801b-497c-9676-3e40177c7cc0",
   "metadata": {},
   "outputs": [
    {
     "data": {
      "text/html": [
       "<table class=\"simpletable\">\n",
       "<caption>Zero Mean - GARCH Model Results</caption>\n",
       "<tr>\n",
       "  <th>Dep. Variable:</th>        <td>close</td>       <th>  R-squared:         </th>  <td>   0.000</td> \n",
       "</tr>\n",
       "<tr>\n",
       "  <th>Mean Model:</th>         <td>Zero Mean</td>     <th>  Adj. R-squared:    </th>  <td>   0.001</td> \n",
       "</tr>\n",
       "<tr>\n",
       "  <th>Vol Model:</th>            <td>GARCH</td>       <th>  Log-Likelihood:    </th> <td>  -2003.85</td>\n",
       "</tr>\n",
       "<tr>\n",
       "  <th>Distribution:</th>        <td>Normal</td>       <th>  AIC:               </th> <td>   4015.71</td>\n",
       "</tr>\n",
       "<tr>\n",
       "  <th>Method:</th>        <td>Maximum Likelihood</td> <th>  BIC:               </th> <td>   4036.01</td>\n",
       "</tr>\n",
       "<tr>\n",
       "  <th></th>                        <td></td>          <th>  No. Observations:  </th>    <td>1182</td>   \n",
       "</tr>\n",
       "<tr>\n",
       "  <th>Date:</th>           <td>Wed, Apr 13 2022</td>  <th>  Df Residuals:      </th>    <td>1182</td>   \n",
       "</tr>\n",
       "<tr>\n",
       "  <th>Time:</th>               <td>16:39:46</td>      <th>  Df Model:          </th>      <td>0</td>    \n",
       "</tr>\n",
       "</table>\n",
       "<table class=\"simpletable\">\n",
       "<caption>Volatility Model</caption>\n",
       "<tr>\n",
       "      <td></td>        <th>coef</th>     <th>std err</th>      <th>t</th>        <th>P>|t|</th>      <th>95.0% Conf. Int.</th>   \n",
       "</tr>\n",
       "<tr>\n",
       "  <th>omega</th>    <td>    0.0403</td> <td>1.405e-02</td> <td>    2.870</td>  <td>4.103e-03</td>  <td>[1.279e-02,6.785e-02]</td>\n",
       "</tr>\n",
       "<tr>\n",
       "  <th>alpha[1]</th>   <td>0.0000</td>   <td>2.655e-02</td>   <td>0.000</td>    <td>    1.000</td> <td>[-5.203e-02,5.203e-02]</td>\n",
       "</tr>\n",
       "<tr>\n",
       "  <th>alpha[2]</th> <td>    0.1449</td> <td>3.973e-02</td> <td>    3.646</td>  <td>2.660e-04</td>   <td>[6.700e-02,  0.223]</td> \n",
       "</tr>\n",
       "<tr>\n",
       "  <th>beta[1]</th>  <td>    0.8428</td> <td>2.505e-02</td> <td>   33.645</td> <td>3.718e-248</td>    <td>[  0.794,  0.892]</td>  \n",
       "</tr>\n",
       "</table><br/><br/>Covariance estimator: robust"
      ],
      "text/plain": [
       "<class 'statsmodels.iolib.summary.Summary'>\n",
       "\"\"\"\n",
       "                       Zero Mean - GARCH Model Results                        \n",
       "==============================================================================\n",
       "Dep. Variable:                  close   R-squared:                       0.000\n",
       "Mean Model:                 Zero Mean   Adj. R-squared:                  0.001\n",
       "Vol Model:                      GARCH   Log-Likelihood:               -2003.85\n",
       "Distribution:                  Normal   AIC:                           4015.71\n",
       "Method:            Maximum Likelihood   BIC:                           4036.01\n",
       "                                        No. Observations:                 1182\n",
       "Date:                Wed, Apr 13 2022   Df Residuals:                     1182\n",
       "Time:                        16:39:46   Df Model:                            0\n",
       "                               Volatility Model                              \n",
       "=============================================================================\n",
       "                 coef    std err          t      P>|t|       95.0% Conf. Int.\n",
       "-----------------------------------------------------------------------------\n",
       "omega          0.0403  1.405e-02      2.870  4.103e-03  [1.279e-02,6.785e-02]\n",
       "alpha[1]       0.0000  2.655e-02      0.000      1.000 [-5.203e-02,5.203e-02]\n",
       "alpha[2]       0.1449  3.973e-02      3.646  2.660e-04    [6.700e-02,  0.223]\n",
       "beta[1]        0.8428  2.505e-02     33.645 3.718e-248      [  0.794,  0.892]\n",
       "=============================================================================\n",
       "\n",
       "Covariance estimator: robust\n",
       "\"\"\""
      ]
     },
     "execution_count": 24,
     "metadata": {},
     "output_type": "execute_result"
    }
   ],
   "source": [
    "# Summarize the model results\n",
    "results.summary()"
   ]
  },
  {
   "cell_type": "markdown",
   "id": "f8aac8ab-d63a-4d78-a716-36c7698191bd",
   "metadata": {},
   "source": [
    "### Last Day \n",
    "- Highlight the last day of the data, and plot the predictions for the next 5 days of volatility. \n"
   ]
  },
  {
   "cell_type": "code",
   "execution_count": 25,
   "id": "407eb98a-c2a6-46eb-8acf-881d53655e93",
   "metadata": {},
   "outputs": [
    {
     "data": {
      "text/plain": [
       "'2011-12-30'"
      ]
     },
     "execution_count": 25,
     "metadata": {},
     "output_type": "execute_result"
    }
   ],
   "source": [
    "# Find the last day of the dataset\n",
    "last_day = returns.index.max().strftime('%Y-%m-%d')\n",
    "last_day"
   ]
  },
  {
   "cell_type": "code",
   "execution_count": 26,
   "id": "0e29790d-46b7-4689-8cb8-2039bf3e0866",
   "metadata": {},
   "outputs": [
    {
     "name": "stderr",
     "output_type": "stream",
     "text": [
      "C:\\Users\\alexm\\Anaconda\\lib\\site-packages\\arch\\__future__\\_utility.py:11: FutureWarning: \n",
      "The default for reindex is True. After September 2021 this will change to\n",
      "False. Set reindex to True or False to silence this message. Alternatively,\n",
      "you can use the import comment\n",
      "\n",
      "from arch.__future__ import reindexing\n",
      "\n",
      "to globally set reindex to True and silence this warning.\n",
      "\n",
      "  warnings.warn(\n"
     ]
    }
   ],
   "source": [
    "# Create a 5 day forecast of volatility\n",
    "forecast_horizon = 5\n",
    "# Start the forecast using the last_day calculated above\n",
    "forecasts = results.forecast(start=last_day, horizon=forecast_horizon)"
   ]
  },
  {
   "cell_type": "code",
   "execution_count": 27,
   "id": "5aef30ce-90cc-46ec-894f-2f5728f1426b",
   "metadata": {},
   "outputs": [
    {
     "data": {
      "text/html": [
       "<div>\n",
       "<style scoped>\n",
       "    .dataframe tbody tr th:only-of-type {\n",
       "        vertical-align: middle;\n",
       "    }\n",
       "\n",
       "    .dataframe tbody tr th {\n",
       "        vertical-align: top;\n",
       "    }\n",
       "\n",
       "    .dataframe thead th {\n",
       "        text-align: right;\n",
       "    }\n",
       "</style>\n",
       "<table border=\"1\" class=\"dataframe\">\n",
       "  <thead>\n",
       "    <tr style=\"text-align: right;\">\n",
       "      <th></th>\n",
       "      <th>h.1</th>\n",
       "      <th>h.2</th>\n",
       "      <th>h.3</th>\n",
       "      <th>h.4</th>\n",
       "      <th>h.5</th>\n",
       "    </tr>\n",
       "    <tr>\n",
       "      <th>date</th>\n",
       "      <th></th>\n",
       "      <th></th>\n",
       "      <th></th>\n",
       "      <th></th>\n",
       "      <th></th>\n",
       "    </tr>\n",
       "  </thead>\n",
       "  <tbody>\n",
       "    <tr>\n",
       "      <th>2011-12-30</th>\n",
       "      <td>20.363088</td>\n",
       "      <td>19.195119</td>\n",
       "      <td>19.513206</td>\n",
       "      <td>19.607355</td>\n",
       "      <td>19.731609</td>\n",
       "    </tr>\n",
       "  </tbody>\n",
       "</table>\n",
       "</div>"
      ],
      "text/plain": [
       "                  h.1        h.2        h.3        h.4        h.5\n",
       "date                                                             \n",
       "2011-12-30  20.363088  19.195119  19.513206  19.607355  19.731609"
      ]
     },
     "execution_count": 27,
     "metadata": {},
     "output_type": "execute_result"
    }
   ],
   "source": [
    "# Annualize the forecast\n",
    "intermediate = np.sqrt(forecasts.variance.dropna() * 252)\n",
    "intermediate.head()"
   ]
  },
  {
   "cell_type": "code",
   "execution_count": 28,
   "id": "9e6f0431-7a5e-4b62-a8b0-008d2a75b060",
   "metadata": {},
   "outputs": [
    {
     "data": {
      "text/html": [
       "<div>\n",
       "<style scoped>\n",
       "    .dataframe tbody tr th:only-of-type {\n",
       "        vertical-align: middle;\n",
       "    }\n",
       "\n",
       "    .dataframe tbody tr th {\n",
       "        vertical-align: top;\n",
       "    }\n",
       "\n",
       "    .dataframe thead th {\n",
       "        text-align: right;\n",
       "    }\n",
       "</style>\n",
       "<table border=\"1\" class=\"dataframe\">\n",
       "  <thead>\n",
       "    <tr style=\"text-align: right;\">\n",
       "      <th>date</th>\n",
       "      <th>2011-12-30</th>\n",
       "    </tr>\n",
       "  </thead>\n",
       "  <tbody>\n",
       "    <tr>\n",
       "      <th>h.1</th>\n",
       "      <td>20.363088</td>\n",
       "    </tr>\n",
       "    <tr>\n",
       "      <th>h.2</th>\n",
       "      <td>19.195119</td>\n",
       "    </tr>\n",
       "    <tr>\n",
       "      <th>h.3</th>\n",
       "      <td>19.513206</td>\n",
       "    </tr>\n",
       "    <tr>\n",
       "      <th>h.4</th>\n",
       "      <td>19.607355</td>\n",
       "    </tr>\n",
       "    <tr>\n",
       "      <th>h.5</th>\n",
       "      <td>19.731609</td>\n",
       "    </tr>\n",
       "  </tbody>\n",
       "</table>\n",
       "</div>"
      ],
      "text/plain": [
       "date  2011-12-30\n",
       "h.1    20.363088\n",
       "h.2    19.195119\n",
       "h.3    19.513206\n",
       "h.4    19.607355\n",
       "h.5    19.731609"
      ]
     },
     "execution_count": 28,
     "metadata": {},
     "output_type": "execute_result"
    }
   ],
   "source": [
    "# Ammend the forecast making it easier to plot\n",
    "final = intermediate.dropna().T\n",
    "final.head()"
   ]
  },
  {
   "cell_type": "code",
   "execution_count": 29,
   "id": "10ec06f7-1e8d-44ff-97db-b610bc057a7c",
   "metadata": {},
   "outputs": [
    {
     "data": {
      "text/plain": [
       "<AxesSubplot:title={'center':'5 Day Forecast of Volatility'}>"
      ]
     },
     "execution_count": 29,
     "metadata": {},
     "output_type": "execute_result"
    },
    {
     "data": {
      "image/png": "[encoded data removed]",
      "text/plain": [
       "<Figure size 432x288 with 1 Axes>"
      ]
     },
     "metadata": {
      "needs_background": "light"
     },
     "output_type": "display_data"
    }
   ],
   "source": [
    "# Plot the final forecast\n",
    "final.plot(title=\"5 Day Forecast of Volatility\")"
   ]
  },
  {
   "cell_type": "markdown",
   "id": "b20723c9-1947-47b4-9a76-9511be8dec92",
   "metadata": {},
   "source": [
    "# Conclusions"
   ]
  },
  {
   "cell_type": "markdown",
   "id": "a29496e4-5096-4117-a484-6547bf49f680",
   "metadata": {},
   "source": [
    "- Because the data being tested is a non-stationary time series. \n",
    "- ARMA Akaike Information Criteria (AIC) is 4609.775. Bayesian Information Criteria (BIC) = 4635.150\n",
    "- ARIMA (AIC) = 4770.431. (BIC) = 4811.031 \n",
    "- Generally, when analyzing the model, you would want to select the model with the lower of these two scores.  However, they are very similiar, with the ARMA model having slightly lower scores for both metrics. \n",
    "- The scores indicate that the parameters need more manipulation in the models.  Even so, I do not believe these are going to be sufficient enough for the Algorithmic Trading Model being built.  We should look elsewhere for a more robust model to more accurately predict future values.  "
   ]
  },
  {
   "cell_type": "code",
   "execution_count": null,
   "id": "0870c2d3-df8b-407e-aa96-e8b6791781d4",
   "metadata": {},
   "outputs": [],
   "source": []
  }
 ],
 "metadata": {
  "kernelspec": {
   "display_name": "Python 3 (ipykernel)",
   "language": "python",
   "name": "python3"
  },
  "language_info": {
   "codemirror_mode": {
    "name": "ipython",
    "version": 3
   },
   "file_extension": ".py",
   "mimetype": "text/x-python",
   "name": "python",
   "nbconvert_exporter": "python",
   "pygments_lexer": "ipython3",
   "version": "3.9.7"
  }
 },
 "nbformat": 4,
 "nbformat_minor": 5
}
