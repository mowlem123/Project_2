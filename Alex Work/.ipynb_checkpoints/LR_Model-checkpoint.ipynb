{
 "cells": [
  {
   "cell_type": "markdown",
   "id": "dc38fb33-9c62-41c8-b11a-d265a2a3e17d",
   "metadata": {},
   "source": [
    "# Regression Analysis"
   ]
  },
  {
   "cell_type": "markdown",
   "id": "8c051f85-abd7-41e3-9319-52c81860c2f5",
   "metadata": {},
   "source": [
    "## Abstract\n",
    "- Using a train test split, we can use the dataset to predict what the future value is of the S&P 500 Index Fund.\n",
    "- Out-of-Sample, and In-Sample analysis will be run to accumulate data to compare our training and testing data.\n",
    "- By analyzing the root mean squared error, we can better understand the variance of the residuals between the models predictions, and the observed values. \n",
    "- Through Regression Analysis, we can further determine if this model will be a beneficial predictor for the Machine Learning Algorithm.\n",
    "- If the model does not yeild convincing enough data, we will seek elsewhere for a more robust Machine Learning Model. "
   ]
  },
  {
   "cell_type": "code",
   "execution_count": 1,
   "id": "ab573b88-6387-414e-a0ee-cf624bcd3f77",
   "metadata": {},
   "outputs": [],
   "source": [
    "# imports \n",
    "import numpy as np\n",
    "import pandas as pd\n",
    "from pathlib import Path\n",
    "from sklearn.linear_model import LinearRegression\n",
    "from sklearn.metrics import mean_squared_error, r2_score\n",
    "\n",
    "%matplotlib inline"
   ]
  },
  {
   "cell_type": "code",
   "execution_count": 2,
   "id": "38c90c6c-9aa1-4f32-9fc5-ac1874ac84cd",
   "metadata": {},
   "outputs": [
    {
     "data": {
      "text/html": [
       "<div>\n",
       "<style scoped>\n",
       "    .dataframe tbody tr th:only-of-type {\n",
       "        vertical-align: middle;\n",
       "    }\n",
       "\n",
       "    .dataframe tbody tr th {\n",
       "        vertical-align: top;\n",
       "    }\n",
       "\n",
       "    .dataframe thead th {\n",
       "        text-align: right;\n",
       "    }\n",
       "</style>\n",
       "<table border=\"1\" class=\"dataframe\">\n",
       "  <thead>\n",
       "    <tr style=\"text-align: right;\">\n",
       "      <th></th>\n",
       "      <th>Unnamed: 0</th>\n",
       "      <th>close</th>\n",
       "      <th>high</th>\n",
       "      <th>low</th>\n",
       "      <th>open</th>\n",
       "      <th>symbol</th>\n",
       "      <th>volume</th>\n",
       "      <th>id</th>\n",
       "      <th>key</th>\n",
       "      <th>subkey</th>\n",
       "      <th>...</th>\n",
       "      <th>uHigh</th>\n",
       "      <th>uLow</th>\n",
       "      <th>uVolume</th>\n",
       "      <th>fOpen</th>\n",
       "      <th>fClose</th>\n",
       "      <th>fHigh</th>\n",
       "      <th>fLow</th>\n",
       "      <th>fVolume</th>\n",
       "      <th>change</th>\n",
       "      <th>changePercent</th>\n",
       "    </tr>\n",
       "    <tr>\n",
       "      <th>date</th>\n",
       "      <th></th>\n",
       "      <th></th>\n",
       "      <th></th>\n",
       "      <th></th>\n",
       "      <th></th>\n",
       "      <th></th>\n",
       "      <th></th>\n",
       "      <th></th>\n",
       "      <th></th>\n",
       "      <th></th>\n",
       "      <th></th>\n",
       "      <th></th>\n",
       "      <th></th>\n",
       "      <th></th>\n",
       "      <th></th>\n",
       "      <th></th>\n",
       "      <th></th>\n",
       "      <th></th>\n",
       "      <th></th>\n",
       "      <th></th>\n",
       "      <th></th>\n",
       "    </tr>\n",
       "  </thead>\n",
       "  <tbody>\n",
       "    <tr>\n",
       "      <th>2007-05-01</th>\n",
       "      <td>2007-05-01</td>\n",
       "      <td>148.67</td>\n",
       "      <td>149.47</td>\n",
       "      <td>147.67</td>\n",
       "      <td>148.53</td>\n",
       "      <td>SPY</td>\n",
       "      <td>134447334</td>\n",
       "      <td>HISTORICAL_PRICES</td>\n",
       "      <td>SPY</td>\n",
       "      <td>NaN</td>\n",
       "      <td>...</td>\n",
       "      <td>149.47</td>\n",
       "      <td>147.67</td>\n",
       "      <td>134447334</td>\n",
       "      <td>92.7672</td>\n",
       "      <td>92.8546</td>\n",
       "      <td>93.3542</td>\n",
       "      <td>92.2300</td>\n",
       "      <td>134447334</td>\n",
       "      <td>0.38</td>\n",
       "      <td>0.0026</td>\n",
       "    </tr>\n",
       "    <tr>\n",
       "      <th>2007-05-02</th>\n",
       "      <td>2007-05-02</td>\n",
       "      <td>149.54</td>\n",
       "      <td>149.95</td>\n",
       "      <td>148.75</td>\n",
       "      <td>149.12</td>\n",
       "      <td>SPY</td>\n",
       "      <td>87183213</td>\n",
       "      <td>HISTORICAL_PRICES</td>\n",
       "      <td>SPY</td>\n",
       "      <td>NaN</td>\n",
       "      <td>...</td>\n",
       "      <td>149.95</td>\n",
       "      <td>148.75</td>\n",
       "      <td>87183213</td>\n",
       "      <td>93.1356</td>\n",
       "      <td>93.3980</td>\n",
       "      <td>93.6540</td>\n",
       "      <td>92.9046</td>\n",
       "      <td>87183213</td>\n",
       "      <td>0.87</td>\n",
       "      <td>0.0059</td>\n",
       "    </tr>\n",
       "    <tr>\n",
       "      <th>2007-05-03</th>\n",
       "      <td>2007-05-03</td>\n",
       "      <td>150.35</td>\n",
       "      <td>150.40</td>\n",
       "      <td>149.05</td>\n",
       "      <td>149.72</td>\n",
       "      <td>SPY</td>\n",
       "      <td>87865741</td>\n",
       "      <td>HISTORICAL_PRICES</td>\n",
       "      <td>SPY</td>\n",
       "      <td>NaN</td>\n",
       "      <td>...</td>\n",
       "      <td>150.40</td>\n",
       "      <td>149.05</td>\n",
       "      <td>87865741</td>\n",
       "      <td>93.5104</td>\n",
       "      <td>93.9039</td>\n",
       "      <td>93.9351</td>\n",
       "      <td>93.0919</td>\n",
       "      <td>87865741</td>\n",
       "      <td>0.81</td>\n",
       "      <td>0.0054</td>\n",
       "    </tr>\n",
       "    <tr>\n",
       "      <th>2007-05-04</th>\n",
       "      <td>2007-05-04</td>\n",
       "      <td>150.92</td>\n",
       "      <td>151.12</td>\n",
       "      <td>150.22</td>\n",
       "      <td>150.77</td>\n",
       "      <td>SPY</td>\n",
       "      <td>96424729</td>\n",
       "      <td>HISTORICAL_PRICES</td>\n",
       "      <td>SPY</td>\n",
       "      <td>NaN</td>\n",
       "      <td>...</td>\n",
       "      <td>151.12</td>\n",
       "      <td>150.22</td>\n",
       "      <td>96424729</td>\n",
       "      <td>94.1662</td>\n",
       "      <td>94.2599</td>\n",
       "      <td>94.3848</td>\n",
       "      <td>93.8227</td>\n",
       "      <td>96424729</td>\n",
       "      <td>0.57</td>\n",
       "      <td>0.0038</td>\n",
       "    </tr>\n",
       "    <tr>\n",
       "      <th>2007-05-07</th>\n",
       "      <td>2007-05-07</td>\n",
       "      <td>150.95</td>\n",
       "      <td>151.20</td>\n",
       "      <td>150.81</td>\n",
       "      <td>150.92</td>\n",
       "      <td>SPY</td>\n",
       "      <td>63691549</td>\n",
       "      <td>HISTORICAL_PRICES</td>\n",
       "      <td>SPY</td>\n",
       "      <td>NaN</td>\n",
       "      <td>...</td>\n",
       "      <td>151.20</td>\n",
       "      <td>150.81</td>\n",
       "      <td>63691549</td>\n",
       "      <td>94.2599</td>\n",
       "      <td>94.2786</td>\n",
       "      <td>94.4347</td>\n",
       "      <td>94.1912</td>\n",
       "      <td>63691549</td>\n",
       "      <td>0.03</td>\n",
       "      <td>0.0002</td>\n",
       "    </tr>\n",
       "  </tbody>\n",
       "</table>\n",
       "<p>5 rows × 25 columns</p>\n",
       "</div>"
      ],
      "text/plain": [
       "            Unnamed: 0   close    high     low    open symbol     volume  \\\n",
       "date                                                                       \n",
       "2007-05-01  2007-05-01  148.67  149.47  147.67  148.53    SPY  134447334   \n",
       "2007-05-02  2007-05-02  149.54  149.95  148.75  149.12    SPY   87183213   \n",
       "2007-05-03  2007-05-03  150.35  150.40  149.05  149.72    SPY   87865741   \n",
       "2007-05-04  2007-05-04  150.92  151.12  150.22  150.77    SPY   96424729   \n",
       "2007-05-07  2007-05-07  150.95  151.20  150.81  150.92    SPY   63691549   \n",
       "\n",
       "                           id  key  subkey  ...   uHigh    uLow    uVolume  \\\n",
       "date                                        ...                              \n",
       "2007-05-01  HISTORICAL_PRICES  SPY     NaN  ...  149.47  147.67  134447334   \n",
       "2007-05-02  HISTORICAL_PRICES  SPY     NaN  ...  149.95  148.75   87183213   \n",
       "2007-05-03  HISTORICAL_PRICES  SPY     NaN  ...  150.40  149.05   87865741   \n",
       "2007-05-04  HISTORICAL_PRICES  SPY     NaN  ...  151.12  150.22   96424729   \n",
       "2007-05-07  HISTORICAL_PRICES  SPY     NaN  ...  151.20  150.81   63691549   \n",
       "\n",
       "              fOpen   fClose    fHigh     fLow    fVolume  change  \\\n",
       "date                                                                \n",
       "2007-05-01  92.7672  92.8546  93.3542  92.2300  134447334    0.38   \n",
       "2007-05-02  93.1356  93.3980  93.6540  92.9046   87183213    0.87   \n",
       "2007-05-03  93.5104  93.9039  93.9351  93.0919   87865741    0.81   \n",
       "2007-05-04  94.1662  94.2599  94.3848  93.8227   96424729    0.57   \n",
       "2007-05-07  94.2599  94.2786  94.4347  94.1912   63691549    0.03   \n",
       "\n",
       "            changePercent  \n",
       "date                       \n",
       "2007-05-01         0.0026  \n",
       "2007-05-02         0.0059  \n",
       "2007-05-03         0.0054  \n",
       "2007-05-04         0.0038  \n",
       "2007-05-07         0.0002  \n",
       "\n",
       "[5 rows x 25 columns]"
      ]
     },
     "execution_count": 2,
     "metadata": {},
     "output_type": "execute_result"
    }
   ],
   "source": [
    "# Read in stock data and infer a date time index.\n",
    "\n",
    "spy07_df = pd.read_csv(\n",
    "    Path('../spy_hist_07.csv'), index_col='date', infer_datetime_format=True, parse_dates= True\n",
    ")\n",
    "\n",
    "spy07_df.head()"
   ]
  },
  {
   "cell_type": "code",
   "execution_count": 3,
   "id": "bf3351d7-d94f-4f84-a378-744e37387513",
   "metadata": {},
   "outputs": [
    {
     "data": {
      "text/html": [
       "<div>\n",
       "<style scoped>\n",
       "    .dataframe tbody tr th:only-of-type {\n",
       "        vertical-align: middle;\n",
       "    }\n",
       "\n",
       "    .dataframe tbody tr th {\n",
       "        vertical-align: top;\n",
       "    }\n",
       "\n",
       "    .dataframe thead th {\n",
       "        text-align: right;\n",
       "    }\n",
       "</style>\n",
       "<table border=\"1\" class=\"dataframe\">\n",
       "  <thead>\n",
       "    <tr style=\"text-align: right;\">\n",
       "      <th></th>\n",
       "      <th>open</th>\n",
       "      <th>high</th>\n",
       "      <th>low</th>\n",
       "      <th>close</th>\n",
       "      <th>volume</th>\n",
       "      <th>change</th>\n",
       "    </tr>\n",
       "    <tr>\n",
       "      <th>date</th>\n",
       "      <th></th>\n",
       "      <th></th>\n",
       "      <th></th>\n",
       "      <th></th>\n",
       "      <th></th>\n",
       "      <th></th>\n",
       "    </tr>\n",
       "  </thead>\n",
       "  <tbody>\n",
       "    <tr>\n",
       "      <th>2007-05-01</th>\n",
       "      <td>148.53</td>\n",
       "      <td>149.47</td>\n",
       "      <td>147.67</td>\n",
       "      <td>148.67</td>\n",
       "      <td>134447334</td>\n",
       "      <td>0.38</td>\n",
       "    </tr>\n",
       "    <tr>\n",
       "      <th>2007-05-02</th>\n",
       "      <td>149.12</td>\n",
       "      <td>149.95</td>\n",
       "      <td>148.75</td>\n",
       "      <td>149.54</td>\n",
       "      <td>87183213</td>\n",
       "      <td>0.87</td>\n",
       "    </tr>\n",
       "    <tr>\n",
       "      <th>2007-05-03</th>\n",
       "      <td>149.72</td>\n",
       "      <td>150.40</td>\n",
       "      <td>149.05</td>\n",
       "      <td>150.35</td>\n",
       "      <td>87865741</td>\n",
       "      <td>0.81</td>\n",
       "    </tr>\n",
       "    <tr>\n",
       "      <th>2007-05-04</th>\n",
       "      <td>150.77</td>\n",
       "      <td>151.12</td>\n",
       "      <td>150.22</td>\n",
       "      <td>150.92</td>\n",
       "      <td>96424729</td>\n",
       "      <td>0.57</td>\n",
       "    </tr>\n",
       "    <tr>\n",
       "      <th>2007-05-07</th>\n",
       "      <td>150.92</td>\n",
       "      <td>151.20</td>\n",
       "      <td>150.81</td>\n",
       "      <td>150.95</td>\n",
       "      <td>63691549</td>\n",
       "      <td>0.03</td>\n",
       "    </tr>\n",
       "  </tbody>\n",
       "</table>\n",
       "</div>"
      ],
      "text/plain": [
       "              open    high     low   close     volume  change\n",
       "date                                                         \n",
       "2007-05-01  148.53  149.47  147.67  148.67  134447334    0.38\n",
       "2007-05-02  149.12  149.95  148.75  149.54   87183213    0.87\n",
       "2007-05-03  149.72  150.40  149.05  150.35   87865741    0.81\n",
       "2007-05-04  150.77  151.12  150.22  150.92   96424729    0.57\n",
       "2007-05-07  150.92  151.20  150.81  150.95   63691549    0.03"
      ]
     },
     "execution_count": 3,
     "metadata": {},
     "output_type": "execute_result"
    }
   ],
   "source": [
    "# Clean the data to only keep the necessary columns for the regression model. \n",
    "# These columns contain the integers needed to run the model. \n",
    "spy07_df = spy07_df[['open', 'high', 'low', 'close', 'volume', 'change']]\n",
    "spy07_df.head()"
   ]
  },
  {
   "cell_type": "markdown",
   "id": "67cb9dd3-8305-461b-a242-1047214d4c3d",
   "metadata": {},
   "source": [
    "# Data Preparation"
   ]
  },
  {
   "cell_type": "markdown",
   "id": "df7de3d4-dacb-4136-9f54-83268962f02e",
   "metadata": {},
   "source": [
    "### Returns"
   ]
  },
  {
   "cell_type": "code",
   "execution_count": 4,
   "id": "1d2c8ae9-9075-4931-96f1-9a6bfb9e6916",
   "metadata": {},
   "outputs": [
    {
     "data": {
      "text/html": [
       "<div>\n",
       "<style scoped>\n",
       "    .dataframe tbody tr th:only-of-type {\n",
       "        vertical-align: middle;\n",
       "    }\n",
       "\n",
       "    .dataframe tbody tr th {\n",
       "        vertical-align: top;\n",
       "    }\n",
       "\n",
       "    .dataframe thead th {\n",
       "        text-align: right;\n",
       "    }\n",
       "</style>\n",
       "<table border=\"1\" class=\"dataframe\">\n",
       "  <thead>\n",
       "    <tr style=\"text-align: right;\">\n",
       "      <th></th>\n",
       "      <th>open</th>\n",
       "      <th>high</th>\n",
       "      <th>low</th>\n",
       "      <th>close</th>\n",
       "      <th>volume</th>\n",
       "      <th>change</th>\n",
       "      <th>Returns</th>\n",
       "    </tr>\n",
       "    <tr>\n",
       "      <th>date</th>\n",
       "      <th></th>\n",
       "      <th></th>\n",
       "      <th></th>\n",
       "      <th></th>\n",
       "      <th></th>\n",
       "      <th></th>\n",
       "      <th></th>\n",
       "    </tr>\n",
       "  </thead>\n",
       "  <tbody>\n",
       "    <tr>\n",
       "      <th>2011-12-23</th>\n",
       "      <td>125.67</td>\n",
       "      <td>126.43</td>\n",
       "      <td>125.4100</td>\n",
       "      <td>126.39</td>\n",
       "      <td>92187159</td>\n",
       "      <td>1.12</td>\n",
       "      <td>0.894069</td>\n",
       "    </tr>\n",
       "    <tr>\n",
       "      <th>2011-12-27</th>\n",
       "      <td>126.17</td>\n",
       "      <td>126.82</td>\n",
       "      <td>126.0600</td>\n",
       "      <td>126.49</td>\n",
       "      <td>86075701</td>\n",
       "      <td>0.10</td>\n",
       "      <td>0.079120</td>\n",
       "    </tr>\n",
       "    <tr>\n",
       "      <th>2011-12-28</th>\n",
       "      <td>126.51</td>\n",
       "      <td>126.53</td>\n",
       "      <td>124.7300</td>\n",
       "      <td>124.83</td>\n",
       "      <td>119107005</td>\n",
       "      <td>-1.66</td>\n",
       "      <td>-1.312357</td>\n",
       "    </tr>\n",
       "    <tr>\n",
       "      <th>2011-12-29</th>\n",
       "      <td>125.24</td>\n",
       "      <td>126.25</td>\n",
       "      <td>124.8566</td>\n",
       "      <td>126.12</td>\n",
       "      <td>123507123</td>\n",
       "      <td>1.29</td>\n",
       "      <td>1.033405</td>\n",
       "    </tr>\n",
       "    <tr>\n",
       "      <th>2011-12-30</th>\n",
       "      <td>126.02</td>\n",
       "      <td>126.33</td>\n",
       "      <td>125.5000</td>\n",
       "      <td>125.50</td>\n",
       "      <td>95598996</td>\n",
       "      <td>-0.62</td>\n",
       "      <td>-0.491595</td>\n",
       "    </tr>\n",
       "  </tbody>\n",
       "</table>\n",
       "</div>"
      ],
      "text/plain": [
       "              open    high       low   close     volume  change   Returns\n",
       "date                                                                     \n",
       "2011-12-23  125.67  126.43  125.4100  126.39   92187159    1.12  0.894069\n",
       "2011-12-27  126.17  126.82  126.0600  126.49   86075701    0.10  0.079120\n",
       "2011-12-28  126.51  126.53  124.7300  124.83  119107005   -1.66 -1.312357\n",
       "2011-12-29  125.24  126.25  124.8566  126.12  123507123    1.29  1.033405\n",
       "2011-12-30  126.02  126.33  125.5000  125.50   95598996   -0.62 -0.491595"
      ]
     },
     "execution_count": 4,
     "metadata": {},
     "output_type": "execute_result"
    }
   ],
   "source": [
    "# Create a series using the 'close' price percentage returns.\n",
    "# Drop any nan's, and analyse results.\n",
    "spy07_df['Returns'] = spy07_df[['close']].pct_change() * 100\n",
    "spy07_df = spy07_df.replace(-np.inf, np.nan).dropna()\n",
    "spy07_df.tail()"
   ]
  },
  {
   "cell_type": "markdown",
   "id": "7a2c4cfb-dbeb-4888-ac80-f16c7f07756a",
   "metadata": {},
   "source": [
    "### Lagged Returns"
   ]
  },
  {
   "cell_type": "code",
   "execution_count": 5,
   "id": "a93669a3-c108-48b9-8250-369e77fa5082",
   "metadata": {},
   "outputs": [
    {
     "data": {
      "text/html": [
       "<div>\n",
       "<style scoped>\n",
       "    .dataframe tbody tr th:only-of-type {\n",
       "        vertical-align: middle;\n",
       "    }\n",
       "\n",
       "    .dataframe tbody tr th {\n",
       "        vertical-align: top;\n",
       "    }\n",
       "\n",
       "    .dataframe thead th {\n",
       "        text-align: right;\n",
       "    }\n",
       "</style>\n",
       "<table border=\"1\" class=\"dataframe\">\n",
       "  <thead>\n",
       "    <tr style=\"text-align: right;\">\n",
       "      <th></th>\n",
       "      <th>open</th>\n",
       "      <th>high</th>\n",
       "      <th>low</th>\n",
       "      <th>close</th>\n",
       "      <th>volume</th>\n",
       "      <th>change</th>\n",
       "      <th>Returns</th>\n",
       "      <th>Lagged Returns</th>\n",
       "    </tr>\n",
       "    <tr>\n",
       "      <th>date</th>\n",
       "      <th></th>\n",
       "      <th></th>\n",
       "      <th></th>\n",
       "      <th></th>\n",
       "      <th></th>\n",
       "      <th></th>\n",
       "      <th></th>\n",
       "      <th></th>\n",
       "    </tr>\n",
       "  </thead>\n",
       "  <tbody>\n",
       "    <tr>\n",
       "      <th>2011-12-23</th>\n",
       "      <td>125.67</td>\n",
       "      <td>126.43</td>\n",
       "      <td>125.4100</td>\n",
       "      <td>126.39</td>\n",
       "      <td>92187159</td>\n",
       "      <td>1.12</td>\n",
       "      <td>0.894069</td>\n",
       "      <td>0.885882</td>\n",
       "    </tr>\n",
       "    <tr>\n",
       "      <th>2011-12-27</th>\n",
       "      <td>126.17</td>\n",
       "      <td>126.82</td>\n",
       "      <td>126.0600</td>\n",
       "      <td>126.49</td>\n",
       "      <td>86075701</td>\n",
       "      <td>0.10</td>\n",
       "      <td>0.079120</td>\n",
       "      <td>0.894069</td>\n",
       "    </tr>\n",
       "    <tr>\n",
       "      <th>2011-12-28</th>\n",
       "      <td>126.51</td>\n",
       "      <td>126.53</td>\n",
       "      <td>124.7300</td>\n",
       "      <td>124.83</td>\n",
       "      <td>119107005</td>\n",
       "      <td>-1.66</td>\n",
       "      <td>-1.312357</td>\n",
       "      <td>0.079120</td>\n",
       "    </tr>\n",
       "    <tr>\n",
       "      <th>2011-12-29</th>\n",
       "      <td>125.24</td>\n",
       "      <td>126.25</td>\n",
       "      <td>124.8566</td>\n",
       "      <td>126.12</td>\n",
       "      <td>123507123</td>\n",
       "      <td>1.29</td>\n",
       "      <td>1.033405</td>\n",
       "      <td>-1.312357</td>\n",
       "    </tr>\n",
       "    <tr>\n",
       "      <th>2011-12-30</th>\n",
       "      <td>126.02</td>\n",
       "      <td>126.33</td>\n",
       "      <td>125.5000</td>\n",
       "      <td>125.50</td>\n",
       "      <td>95598996</td>\n",
       "      <td>-0.62</td>\n",
       "      <td>-0.491595</td>\n",
       "      <td>1.033405</td>\n",
       "    </tr>\n",
       "  </tbody>\n",
       "</table>\n",
       "</div>"
      ],
      "text/plain": [
       "              open    high       low   close     volume  change   Returns  \\\n",
       "date                                                                        \n",
       "2011-12-23  125.67  126.43  125.4100  126.39   92187159    1.12  0.894069   \n",
       "2011-12-27  126.17  126.82  126.0600  126.49   86075701    0.10  0.079120   \n",
       "2011-12-28  126.51  126.53  124.7300  124.83  119107005   -1.66 -1.312357   \n",
       "2011-12-29  125.24  126.25  124.8566  126.12  123507123    1.29  1.033405   \n",
       "2011-12-30  126.02  126.33  125.5000  125.50   95598996   -0.62 -0.491595   \n",
       "\n",
       "            Lagged Returns  \n",
       "date                        \n",
       "2011-12-23        0.885882  \n",
       "2011-12-27        0.894069  \n",
       "2011-12-28        0.079120  \n",
       "2011-12-29       -1.312357  \n",
       "2011-12-30        1.033405  "
      ]
     },
     "execution_count": 5,
     "metadata": {},
     "output_type": "execute_result"
    }
   ],
   "source": [
    "# Create a series of lagged return using the shift function. \n",
    "spy07_df['Lagged Returns'] = spy07_df['Returns'].shift()\n",
    "spy07_df = spy07_df.dropna()\n",
    "spy07_df.tail()\n",
    "                       \n",
    "    "
   ]
  },
  {
   "cell_type": "markdown",
   "id": "a65564f8-3e51-4997-aea6-966b883b76dd",
   "metadata": {},
   "source": [
    "### Train Test Split"
   ]
  },
  {
   "cell_type": "code",
   "execution_count": null,
   "id": "c807965b-4ff3-49b7-8ebc-4e57ef1dc322",
   "metadata": {},
   "outputs": [],
   "source": [
    "# Make a train/test split for the data. \n",
    "# Use the first 80% of the data to train, and to test it against the remaining 20%.\n"
   ]
  },
  {
   "cell_type": "code",
   "execution_count": 18,
   "id": "4b761cbd-8b2c-4ee8-8b5c-dd13f7bd1d39",
   "metadata": {},
   "outputs": [],
   "source": [
    "# Setting train and test variables to a 80/20 percentage split of the entire dataframe.  \n",
    "# Slice 80% of the index for the train set.\n",
    "# Slice 20% for the test set. \n",
    "\n",
    "train = spy07_df[(spy07_df.index>np.percentile(spy07_df.index, 80))]\n",
    "                  \n",
    "test = spy07_df[(spy07_df.index>np.percentile(spy07_df.index, 20))]\n"
   ]
  },
  {
   "cell_type": "code",
   "execution_count": 21,
   "id": "6aee899c-67ad-48a6-9594-b5860eeba187",
   "metadata": {},
   "outputs": [],
   "source": [
    "# Set output to separate dataframe. \n",
    "\n",
    "X_train = train[\"Lagged Returns\"].to_frame()\n",
    "y_train = train[\"Returns\"]\n",
    "X_test = test[\"Lagged Returns\"].to_frame()\n",
    "y_test = test[\"Returns\"]"
   ]
  },
  {
   "cell_type": "markdown",
   "id": "1800f5d9-5ab2-443b-afa1-e582396ce039",
   "metadata": {},
   "source": [
    "# Linear Regression Model"
   ]
  },
  {
   "cell_type": "markdown",
   "id": "28e14dce-c752-4809-a363-77776c22e7ba",
   "metadata": {},
   "source": [
    "### Load in Regression Model"
   ]
  },
  {
   "cell_type": "code",
   "execution_count": 22,
   "id": "ca41f287-d1fd-4dde-ab5f-fdf8c6886426",
   "metadata": {},
   "outputs": [
    {
     "data": {
      "text/plain": [
       "LinearRegression()"
      ]
     },
     "execution_count": 22,
     "metadata": {},
     "output_type": "execute_result"
    }
   ],
   "source": [
    "# Make a Linear Regression model and fit it to the training data. \n",
    "from sklearn.linear_model import LinearRegression\n",
    "\n",
    "model = LinearRegression()\n",
    "model.fit(X_train, y_train)"
   ]
  },
  {
   "cell_type": "markdown",
   "id": "11058e11-894c-46e6-bc8e-fef4168447a4",
   "metadata": {},
   "source": [
    "## Predictions"
   ]
  },
  {
   "cell_type": "markdown",
   "id": "4b6e1d5d-d41e-4b07-b08d-b02c3eec1255",
   "metadata": {},
   "source": [
    "#### Testing Data"
   ]
  },
  {
   "cell_type": "code",
   "execution_count": 23,
   "id": "9055d228-d2f1-4c6b-974b-75e0d7b53844",
   "metadata": {},
   "outputs": [],
   "source": [
    "# For the predictions, use the TRAINING data.  \n",
    "\n",
    "predictions = model.predict(X_test)"
   ]
  },
  {
   "cell_type": "code",
   "execution_count": 33,
   "id": "8d098e18-bb59-4b73-96f1-80f65aa8d15f",
   "metadata": {},
   "outputs": [],
   "source": [
    "# Collect y data into a separate dataframe.  (Y_test) with predicted.\n",
    "Results = y_test.to_frame()\n",
    "Results[\"Predicted Returns\"] = predictions"
   ]
  },
  {
   "cell_type": "code",
   "execution_count": 34,
   "id": "d36babf6-a83a-4f56-a5cd-11f5e61ca9d3",
   "metadata": {},
   "outputs": [
    {
     "data": {
      "text/plain": [
       "array([<AxesSubplot:xlabel='date'>, <AxesSubplot:xlabel='date'>],\n",
       "      dtype=object)"
      ]
     },
     "execution_count": 34,
     "metadata": {},
     "output_type": "execute_result"
    },
    {
     "data": {
      "image/png": "[encoded data removed]",
      "text/plain": [
       "<Figure size 432x288 with 2 Axes>"
      ]
     },
     "metadata": {
      "needs_background": "light"
     },
     "output_type": "display_data"
    }
   ],
   "source": [
    "# Plot the 25 predictions vs the true values\n",
    "Results[:25].plot(subplots=True)"
   ]
  },
  {
   "cell_type": "markdown",
   "id": "1556c63b-8606-4ac3-a599-8c633afce284",
   "metadata": {},
   "source": [
    "# Out-of-Sample Performance"
   ]
  },
  {
   "cell_type": "code",
   "execution_count": 30,
   "id": "5f613866-83b4-4d20-bd66-957a868e9306",
   "metadata": {},
   "outputs": [
    {
     "name": "stdout",
     "output_type": "stream",
     "text": [
      "Out-of-Sample Root Mean Squared Error (RMSE): 1.8109575138860936\n"
     ]
    }
   ],
   "source": [
    "# Out-of-Sample Performance analyzes the data that was left out of the training during the split.\n",
    "# This is to test the level of error on the testing data. (X_test)(y_test)\n",
    "from sklearn.metrics import mean_squared_error\n",
    "# Calculate the mean_squared_error (MSE) on actual versus predicted test \"y\" \n",
    "mse = mean_squared_error(\n",
    "    Results[\"Returns\"],\n",
    "    Results[\"Predicted Returns\"]\n",
    ")\n",
    "\n",
    "# Using that mean-squared-error, calculate the root-mean-squared error (RMSE):\n",
    "out_of_sample_rmse = np.sqrt(mse)\n",
    "print(f\"Out-of-Sample Root Mean Squared Error (RMSE): {out_of_sample_rmse}\")"
   ]
  },
  {
   "cell_type": "markdown",
   "id": "e883e216-ac22-46e4-b457-88d1d083d770",
   "metadata": {},
   "source": [
    "# In-Sample Performance"
   ]
  },
  {
   "cell_type": "code",
   "execution_count": 32,
   "id": "27eb52b5-1a8e-475b-87b4-dc5008af4090",
   "metadata": {},
   "outputs": [
    {
     "name": "stdout",
     "output_type": "stream",
     "text": [
      "In-sample Root Mean Squared Error (RMSE): 1.4712260923811535\n"
     ]
    }
   ],
   "source": [
    "# In-Sample Performance used to test the trained data set used in the model. \n",
    "# Evaluate the model using the X_train and the y_train data. \n",
    "\n",
    "in_sample_results = y_train.to_frame()\n",
    "\n",
    "# Add the column of \"in-sample\" predictions to dataframe.  \n",
    "in_sample_results[\"In-sample Predictions\"] = model.predict(X_train)\n",
    "\n",
    "# Calculate in-sample mean_squared_error (for comparison to out-of-sample)\n",
    "in_sample_mse = mean_squared_error(\n",
    "    in_sample_results[\"Returns\"],\n",
    "    in_sample_results[\"In-sample Predictions\"]\n",
    ")\n",
    "\n",
    "# Calculate in-sample root mean_squared_error (for comparison to out-of-sample)\n",
    "in_sample_rmse = np.sqrt(in_sample_mse)\n",
    "print(f\"In-sample Root Mean Squared Error (RMSE): {in_sample_rmse}\") "
   ]
  },
  {
   "cell_type": "markdown",
   "id": "db0c2fd2-3628-4999-ac83-4dfa084ecb3e",
   "metadata": {},
   "source": [
    "# Conclusion"
   ]
  },
  {
   "cell_type": "markdown",
   "id": "4473560e-d7dd-45dc-a080-dabb52985829",
   "metadata": {},
   "source": [
    "- Residuals are the variance between the predicted value, and the observed value in the dataset.\n",
    "    - Root Mean Squared Error (RMSE) is the square root of the variance of residuals.\n",
    "    \n",
    "- Out-of-Sample Root Mean Squared Error (RMSE): 1.8109575138860936\n",
    "    - We, generally, would expect to see the score for the out of sample data to be slightly higher than the trained data. \n",
    "\n",
    "- In-sample Root Mean Squared Error (RMSE): 1.4712260923811535\n",
    "\n",
    "- The In-Sample analysis was better at fitting the trained data. The model however, performed better on the data it was given, rather than the predictions.  There are lots of variables that are important to this model.  It could be assumed that by lowering the amount of data used in the model, that the RMSE would be better fitted.  \n",
    "- We need to utilize a better model for our Machine Learning algorithm.  I do not believe this is a strategy that will yeild the desired results for this project. "
   ]
  },
  {
   "cell_type": "code",
   "execution_count": null,
   "id": "350e46e3-9ea0-4f82-bb70-e0322ce08e80",
   "metadata": {},
   "outputs": [],
   "source": []
  }
 ],
 "metadata": {
  "kernelspec": {
   "display_name": "Python 3 (ipykernel)",
   "language": "python",
   "name": "python3"
  },
  "language_info": {
   "codemirror_mode": {
    "name": "ipython",
    "version": 3
   },
   "file_extension": ".py",
   "mimetype": "text/x-python",
   "name": "python",
   "nbconvert_exporter": "python",
   "pygments_lexer": "ipython3",
   "version": "3.9.7"
  }
 },
 "nbformat": 4,
 "nbformat_minor": 5
}
